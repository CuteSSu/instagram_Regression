{
 "cells": [
  {
   "cell_type": "markdown",
   "metadata": {},
   "source": [
    "# 빅데이터 분석과 활용 중간고사 과제(회귀분석)\n",
    "#### 컴퓨터학과 2015111461 김수민\n",
    "\n",
    "\n",
    "- 인스타그램 좋아요 수 예측하기 : 베이킹 관련 게시물에 여러 요인들을 크롤링해서 베이킹 계정의 좋아요를 예측하는 선형 회귀 모델을 만들었습니다. 이를 바탕으로 좋아요수에 영향을 미치는 요인을 파악하여 좋아요 수를 예측하였습니다. "
   ]
  },
  {
   "cell_type": "markdown",
   "metadata": {},
   "source": [
    "    0. 개요\n",
    "    1. 데이터 수집\n",
    "        1-1. 데이터 크롤링\n",
    "        1-2. 사용할 데이터셋 가져오기\n",
    "    2. 데이터 파악 (EDA: 탐색적 데이터 분석)\n",
    "        2-1. 데이터셋 기본 정보 파악\n",
    "        2-2. 종속 변수(목표 변수) 탐색\n",
    "        2-3. 설명 변수 탐색\n",
    "        2-4. 설명변수와 종속변수 간의 관계 탐색\n",
    "    3. 좋아요 개수 예측 모델링: 회귀 분석\n",
    "        3-1. 데이터 전처리\n",
    "        3-2. 회귀 모델링\n",
    "        3-3. 모델 해석\n",
    "        3-4. 모델 예측 결과 및 성능 평가"
   ]
  },
  {
   "cell_type": "code",
   "execution_count": 2,
   "metadata": {},
   "outputs": [],
   "source": [
    "### 사용할 라이브러리\n",
    "import pandas as pd ### 데이터 분석을 하기 위한 파이썬 라이브러리\n",
    "import numpy as np\n",
    "import matplotlib.pyplot as plt\n",
    "import seaborn as sns\n",
    "%matplotlib inline\n",
    "\n",
    "#import warnings\n",
    "#warnings.filterwarnings(\"ignore\", category=FutureWarning)\n",
    "#warnings.filterwarnings(\"ignore\", category=DeprecationWarning)"
   ]
  },
  {
   "cell_type": "markdown",
   "metadata": {},
   "source": [
    "### 1.  데이터 수집\n",
    "\n",
    "1-1. 데이터 크롤링\n",
    "\n",
    "!!!! 해당 크롤링은 파이참으로 돌렸습니다. 그래서 경로가 해당 주피터에서는 맞지않습니다. "
   ]
  },
  {
   "cell_type": "code",
   "execution_count": null,
   "metadata": {},
   "outputs": [],
   "source": [
    "from selenium import webdriver\n",
    "from bs4 import BeautifulSoup\n",
    "import time\n",
    "import re\n",
    "import pandas as pd\n",
    "# import datetime\n",
    "from selenium.common.exceptions import NoSuchElementException\n",
    "from selenium.webdriver.common.keys import Keys\n",
    "from pytz import timezone\n",
    "from datetime import datetime, timedelta\n",
    "\n",
    "# 크롤링하기 위한 드라이브 받기\n",
    "driver_path = '../resources/chromedriver.exe' #크롬드라이버 경로 설정\n",
    "driver = webdriver.Chrome(driver_path) #드라이버 지정\n",
    "\n",
    "email = 'bigdatainsta03' #인스타그램 id\n",
    "pw = 'wowndtnals96!!' #인스타그램 pw\n",
    "\n",
    "link_list=[] #크롤링한 게시글의 링크를 저장하기 위한 리스트\n",
    "\n",
    "#인스타그램 검색\n",
    "def insta_searching(word):\n",
    "    url = \"https://www.instagram.com/explore/tags/\"+str(word)\n",
    "    return url\n",
    "\n",
    "#첫번째 게시글 선택\n",
    "def select_first(driver):\n",
    "    time.sleep(2)  # 2초 기다림\n",
    "    first_post = driver.find_element_by_css_selector('div._9AhH0') #첫번째 게시글 찾기\n",
    "    first_post.click() #게시글 클릭\n",
    "\n",
    "#게시글 크롤링\n",
    "def get_content(driver):\n",
    "    html=driver.page_source\n",
    "    soup = BeautifulSoup(html, 'lxml')\n",
    "\n",
    "    # [1]현재 게시글 링크 크롤링\n",
    "    try:\n",
    "        link=soup.find(\"a\", {\"class\":\"c-Yi7\"}).attrs['href']\n",
    "        link = \"https://www.instagram.com\" + link\n",
    "    except:\n",
    "        link='NULL'\n",
    "\n",
    "    # [2]현재 게시글 본문 크롤링\n",
    "    try:\n",
    "        content=soup.select('div.C4VMK > span')[0].text\n",
    "    except:\n",
    "        content = ' '\n",
    "\n",
    "    # [4]현재 게시글 본문에서의 해시태그 크롤링\n",
    "    tags = re.findall(r'#[^\\s#,\\\\]+', content)\n",
    "\n",
    "    # [5]현재 게시글에 좋아요 수 크롤링\n",
    "    try:\n",
    "        like=soup.select('a.zV_Nj')[0].text[4:-1]\n",
    "    except:\n",
    "        like=0\n",
    "\n",
    "    # [6]현재게시글을 올린 계정의 id 크롤링\n",
    "    try:\n",
    "        upload_id_object = driver.find_element_by_css_selector(\"div.e1e1d > span.Jv7Aj.MqpiF > a.sqdOP.yWX7d._8A5w5.ZIAjV \")\n",
    "        upload_id = upload_id_object.text\n",
    "    except:\n",
    "        upload_id = None\n",
    "\n",
    "    # [7]현재 게시글에 댓글부분 크롤링\n",
    "    try: #대댓글 보기 위한 버튼\n",
    "        buttons = driver.find_elements_by_css_selector('li > ul > li > div > button')  #대댓글 더 보기 버튼\n",
    "        for button in range(len(buttons)):\n",
    "            buttons[button].send_keys(Keys.ENTER)  # 대댓글 버튼 클릭\n",
    "            replies = driver.find_elements_by_css_selector('ul.TCSYW > div.ZyFrc div.C4VMK > span')  # 대댓글 가져오기\n",
    "            replies_tags = ''\n",
    "            replies_tags = re.findall(r'#[^\\s#,\\\\]+', replies[button].text)  # 대댓글 text에 해시태그가 있으면 변수에 저장\n",
    "            if len(replies_tags) > 1:  # 대댓글에 해시태그가 있는 경우\n",
    "                tags = replies_tags  # 태그에 저장\n",
    "    except:\n",
    "        print(\"replies fail\")\n",
    "\n",
    "    try: #댓글 데이터 가져오기\n",
    "        #댓글 쓴 사람의 id\n",
    "        comment_ids_objects = driver.find_elements_by_css_selector(\"ul.Mr508 > div.ZyFrc > li.gElp9.rUo9f > div.P9YgZ > div.C7I1f > div.C4VMK > h3\")\n",
    "        #댓글 내용\n",
    "        comment_texts_objects = driver.find_elements_by_css_selector(\"ul.Mr508 > div.ZyFrc > li.gElp9.rUo9f > div.P9YgZ > div.C7I1f > div.C4VMK > span\")\n",
    "        for i in range(len(comment_ids_objects)):  # 댓글 쓴 사람 수 대로 탐색\n",
    "            comment_tags = ''\n",
    "            comment_tags = re.findall(r'#[^\\s#,\\\\]+', comment_texts_objects[i].text)  # 댓글 text에 해시태그가 있으면 변수에 저장\n",
    "            if len(comment_tags) > 1:  # 댓글에 해시태그가 있다면\n",
    "                tags = comment_tags  # 태그에 저장\n",
    "    except:\n",
    "        print(\"comment fail\")\n",
    "\n",
    "    # [4] 현재 게시글 올린 날짜시간 크롤링\n",
    "    date = soup.select('time._1o9PC.Nzb55')[0]['datetime'][:19] #datetime가져오기\n",
    "    date = datetime.strptime(date, '%Y-%m-%dT%H:%M:%S') #datetime이 문자열로 나와서 datetime형태로 형변환\n",
    "    date_KST = date+timedelta(hours=+9) #9시간을 더해서 한국시간에 맞춰줌\n",
    "\n",
    "    dateValue = date_KST.date() #날짜만\n",
    "    tiemValue = date_KST.time() #시간만\n",
    "    hourValue = date_KST.hour   #시간(hour)만 저장\n",
    "    today = datetime.today().date() #크롤링한 날짜\n",
    "\n",
    "    diff_day = today - dateValue #크롤링한 날짜 - 게시글 업로드 날짜\n",
    "    diff_day = diff_day.days #며칠 차이가 나는지\n",
    "\n",
    "    # 링크 리스트 저장\n",
    "    link_list.append(\"https://www.instagram.com\" + link)\n",
    "\n",
    "    data = [link, content,diff_day, dateValue, tiemValue,hourValue, like, tags]\n",
    "    return data\n",
    "\n",
    "#다음 게시물 선택\n",
    "def move_next(driver):\n",
    "    right=driver.find_element_by_css_selector('a.coreSpriteRightPaginationArrow').click()\n",
    "    time.sleep(3)\n",
    "\n",
    "#인스타그램 로그인\n",
    "def insta_login(email, pw):\n",
    "    driver.get('http://www.instagram.com') #인스타그램 열고\n",
    "    time.sleep(3)\n",
    "\n",
    "    input_id = driver.find_elements_by_css_selector('input._2hvTZ.pexuQ.zyHYP')[0] #아이디 입력\n",
    "    input_id.send_keys(email)\n",
    "    input_pw=driver.find_elements_by_css_selector('input._2hvTZ.pexuQ.zyHYP')[1] #비밀번호 입력\n",
    "    input_pw.send_keys(pw)\n",
    "\n",
    "    input_pw.submit() #로그인하기\n",
    "    time.sleep(3) #로그인하고 좀 기다리기\n",
    "\n",
    "\n",
    "\n",
    "#### -------main------- ####\n",
    "\n",
    "\n",
    "# [1]로그인하기\n",
    "insta_login(email, pw)\n",
    "\n",
    "# [2]검색어 입력\n",
    "word = \"베이킹그램\"\n",
    "url = insta_searching(word)\n",
    "driver.get(url) #검색한 단어 주소 가져오기\n",
    "time.sleep(4)   #좀 기다리기..\n",
    "\n",
    "# [3]첫번째 게시글 선택\n",
    "select_first(driver)\n",
    "\n",
    "results = [] #게시글 당 크롤링해온 정보 저장할 리스트\n",
    "target = 1200 #크롤링할 게시글 개수\n",
    "\n",
    "# [4]크롤링\n",
    "for i in range(target):\n",
    "    try:\n",
    "        data=get_content(driver)\n",
    "        results.append(data)\n",
    "        move_next(driver)\n",
    "    except:\n",
    "        time.sleep(2)\n",
    "        move_next(driver)\n",
    "\n",
    "# [5]이미지와 비디오 개수를 세기 위해서 크롤링한 게시글 다시 방문\n",
    "###  이렇게 두번 반복하는 이유 -> 크롤링함수에서 이 코드를 넣으면 처음만 비디오가 가져와지고 그 다음 게시물부터는 안가져와진다..\n",
    "### 이렇게 한번 더 돌리니 카운트가 제대로됨..\n",
    "len_src_img_list=[]\n",
    "len_src_vid_list=[]\n",
    "\n",
    "#링크 다시 방문\n",
    "for i in link_list:\n",
    "    html = driver.page_source\n",
    "    soup = BeautifulSoup(html, 'lxml')\n",
    "    driver.get(i)\n",
    "    tmp_vid = []\n",
    "\n",
    "    while(1):\n",
    "        time.sleep(4)\n",
    "        overlapphoto = driver.find_elements_by_class_name(\"Yi5aA\") #게시물에 사진이나 동영상이 몇개인지 개수\n",
    "\n",
    "        if (len(overlapphoto)==0): #한개일경우\n",
    "            if soup.find(\"video\", {\"class\": 'tWeCl'}): #비디오라면 \n",
    "                videos = soup.find(\"video\", {\"class\": 'tWeCl'}).attrs['src']\n",
    "                tmp_vid.append(videos)  \n",
    "            break\n",
    "\n",
    "        else: #여러개일경우\n",
    "            for n in range(len(overlapphoto)):\n",
    "                time.sleep(2)\n",
    "                if soup.find(\"video\", {\"class\": 'tWeCl'}): #비디오라면\n",
    "                    videos = soup.find(\"video\", {\"class\": 'tWeCl'}).attrs['src']\n",
    "                    if videos not in tmp_vid:\n",
    "                        tmp_vid.append(videos)\n",
    "                        print(\"new_videos\", videos)\n",
    "\n",
    "                try: #다음사진(동영상)으로 넘어가기\n",
    "                    time.sleep(2)\n",
    "                    driver.find_element_by_class_name('coreSpriteRightChevron').click()\n",
    "                    time.sleep(2)\n",
    "                except NoSuchElementException:\n",
    "                    break\n",
    "            break\n",
    "\n",
    "    len_tmp_img = 0\n",
    "    # 이미지개수는 전체 개수 - 비디오개수로 저장\n",
    "    if (len(overlapphoto)==0):\n",
    "        len_tmp_img = len(overlapphoto) - len(tmp_vid)+1 \n",
    "        len_src_img_list.append(len_tmp_img)\n",
    "    else:\n",
    "        len_tmp_img = len(overlapphoto)-len(tmp_vid)\n",
    "        len_src_img_list.append(len_tmp_img)\n",
    "    len_src_vid_list.append(len(tmp_vid))\n",
    "\n",
    "results_df = pd.DataFrame(results) #데이터프레임생성\n",
    "results_df.columns=['link', 'content', 'diff_day', 'dateValue', 'timeValue', 'hourValue', 'like', 'tags']\n",
    "results_df['img_len']=len_src_img_list\n",
    "results_df['vid_len']=len_src_vid_list\n",
    "\n",
    "results_df.to_excel('./output/instaBread.xlsx') #엑셀로 저장\n"
   ]
  },
  {
   "cell_type": "markdown",
   "metadata": {},
   "source": [
    "[학습데이터셋 구축 과정을 거침]\n",
    "### !!!**엑셀로 저장한 instaBread.xlsx 파일에서 해시태그를 보고 bread, detail-bread컬럼을 생성하였습니다. \n",
    "#### *분석에서 사용하지 않는 link, content, tags컬럼은 삭제하였습니다. "
   ]
  },
  {
   "cell_type": "code",
   "execution_count": 3,
   "metadata": {},
   "outputs": [],
   "source": [
    "# 데이터셋 데이터프레임으로 불러오기\n",
    "df=pd.read_excel(\"./data/instaBread.xlsx\")"
   ]
  },
  {
   "cell_type": "code",
   "execution_count": 807,
   "metadata": {},
   "outputs": [
    {
     "data": {
      "text/html": [
       "<div>\n",
       "<style scoped>\n",
       "    .dataframe tbody tr th:only-of-type {\n",
       "        vertical-align: middle;\n",
       "    }\n",
       "\n",
       "    .dataframe tbody tr th {\n",
       "        vertical-align: top;\n",
       "    }\n",
       "\n",
       "    .dataframe thead th {\n",
       "        text-align: right;\n",
       "    }\n",
       "</style>\n",
       "<table border=\"1\" class=\"dataframe\">\n",
       "  <thead>\n",
       "    <tr style=\"text-align: right;\">\n",
       "      <th></th>\n",
       "      <th>diff_day</th>\n",
       "      <th>dateValue</th>\n",
       "      <th>timeValue</th>\n",
       "      <th>hourValue</th>\n",
       "      <th>bread</th>\n",
       "      <th>detail-bread</th>\n",
       "      <th>img_len</th>\n",
       "      <th>vid_len</th>\n",
       "      <th>like</th>\n",
       "    </tr>\n",
       "  </thead>\n",
       "  <tbody>\n",
       "    <tr>\n",
       "      <th>0</th>\n",
       "      <td>40</td>\n",
       "      <td>2021-08-27</td>\n",
       "      <td>16:25:57</td>\n",
       "      <td>16</td>\n",
       "      <td>쿠키</td>\n",
       "      <td>버터쿠키</td>\n",
       "      <td>1</td>\n",
       "      <td>0</td>\n",
       "      <td>136.0</td>\n",
       "    </tr>\n",
       "    <tr>\n",
       "      <th>1</th>\n",
       "      <td>18</td>\n",
       "      <td>2021-09-18</td>\n",
       "      <td>12:00:07</td>\n",
       "      <td>12</td>\n",
       "      <td>모닝빵</td>\n",
       "      <td>모닝빵</td>\n",
       "      <td>3</td>\n",
       "      <td>1</td>\n",
       "      <td>5068.0</td>\n",
       "    </tr>\n",
       "    <tr>\n",
       "      <th>2</th>\n",
       "      <td>47</td>\n",
       "      <td>2021-08-20</td>\n",
       "      <td>15:58:53</td>\n",
       "      <td>15</td>\n",
       "      <td>스콘</td>\n",
       "      <td>에그스콘</td>\n",
       "      <td>2</td>\n",
       "      <td>1</td>\n",
       "      <td>4044.0</td>\n",
       "    </tr>\n",
       "    <tr>\n",
       "      <th>3</th>\n",
       "      <td>9</td>\n",
       "      <td>2021-09-27</td>\n",
       "      <td>09:50:43</td>\n",
       "      <td>9</td>\n",
       "      <td>쿠키</td>\n",
       "      <td>초코쿠키</td>\n",
       "      <td>4</td>\n",
       "      <td>0</td>\n",
       "      <td>442.0</td>\n",
       "    </tr>\n",
       "    <tr>\n",
       "      <th>4</th>\n",
       "      <td>44</td>\n",
       "      <td>2021-08-23</td>\n",
       "      <td>10:54:48</td>\n",
       "      <td>10</td>\n",
       "      <td>소금빵</td>\n",
       "      <td>소금빵</td>\n",
       "      <td>4</td>\n",
       "      <td>0</td>\n",
       "      <td>310.0</td>\n",
       "    </tr>\n",
       "  </tbody>\n",
       "</table>\n",
       "</div>"
      ],
      "text/plain": [
       "   diff_day  dateValue timeValue  hourValue bread detail-bread  img_len  \\\n",
       "0        40 2021-08-27  16:25:57         16    쿠키         버터쿠키        1   \n",
       "1        18 2021-09-18  12:00:07         12   모닝빵          모닝빵        3   \n",
       "2        47 2021-08-20  15:58:53         15    스콘         에그스콘        2   \n",
       "3         9 2021-09-27  09:50:43          9    쿠키         초코쿠키        4   \n",
       "4        44 2021-08-23  10:54:48         10   소금빵          소금빵        4   \n",
       "\n",
       "   vid_len    like  \n",
       "0        0   136.0  \n",
       "1        1  5068.0  \n",
       "2        1  4044.0  \n",
       "3        0   442.0  \n",
       "4        0   310.0  "
      ]
     },
     "execution_count": 807,
     "metadata": {},
     "output_type": "execute_result"
    }
   ],
   "source": [
    "#첫번째 5개의 row 살펴보기\n",
    "df.head()"
   ]
  },
  {
   "cell_type": "markdown",
   "metadata": {},
   "source": [
    "### 데이터 살펴보기 :Features Descriptions\n",
    "\n",
    "각 변수의 의미는 다음과 같습니다:\n",
    "\n",
    "    1. diff_day: 수집한 날짜와 게시글 올라간 날짜의 차이입니다.(ex 수집한 날짜 10월 1일, 게시글 올린 날짜 9월 30일 -> 1일)\n",
    "    1. dataValue: 게시글을 올린 날짜입니다. \n",
    "    2. timeValue: 게시글을 올린 시간입니다.\n",
    "    3. hourValue: 게시글을 올린 시간(hour)입니다.\n",
    "    3. bread: 게시글에 해당하는 빵 종류입니다.\n",
    "    4. detail-bread: 게시글에 해당하는 빵 종류(세부)입니다.\n",
    "    4. img_len: 게시글에 포함된 사진 개수입니다. \n",
    "    5. vid_len: 게시글에 포함된 비디오 개수입니다.\n",
    "    6. likes: 게시글에 좋아요 개수입니다. \n",
    "   "
   ]
  },
  {
   "cell_type": "markdown",
   "metadata": {},
   "source": [
    "### 2. 데이터 탐색하기 (EDA: Exploratory Data Analysis)\n",
    "데이터의 각 변수(features, attributes, columns, x들)의 기본 정보 및 각 변수의 특성을 살펴보겠습니다.\n"
   ]
  },
  {
   "cell_type": "code",
   "execution_count": 808,
   "metadata": {},
   "outputs": [],
   "source": [
    "### 그래프의 배경 설정 : sns --> seaborn 라이브러리 이용\n",
    "sns.set_style('darkgrid')"
   ]
  },
  {
   "cell_type": "markdown",
   "metadata": {},
   "source": [
    "#### 2-1. 데이터 셋의 기본 정보 파악하기"
   ]
  },
  {
   "cell_type": "code",
   "execution_count": 809,
   "metadata": {},
   "outputs": [
    {
     "data": {
      "text/plain": [
       "(990, 9)"
      ]
     },
     "execution_count": 809,
     "metadata": {},
     "output_type": "execute_result"
    }
   ],
   "source": [
    "# 1]데이터 셋 구조 보기\n",
    "df.shape \n",
    "# [해석]: 행이 990, 열이 9를 가진 데이터셋입니다. "
   ]
  },
  {
   "cell_type": "code",
   "execution_count": 810,
   "metadata": {},
   "outputs": [
    {
     "data": {
      "text/plain": [
       "diff_day          0\n",
       "dateValue         0\n",
       "timeValue         0\n",
       "hourValue         0\n",
       "bread           119\n",
       "detail-bread    124\n",
       "img_len           0\n",
       "vid_len           0\n",
       "like             18\n",
       "dtype: int64"
      ]
     },
     "execution_count": 810,
     "metadata": {},
     "output_type": "execute_result"
    }
   ],
   "source": [
    "# 2]결측치 탐색 : 비어있는 데이터를 찾습니다. \n",
    "df.isnull().sum()\n",
    "# [해석] bread컬럼, detail-bread, like컬럼에 결측치기 빌견됩니다. "
   ]
  },
  {
   "cell_type": "code",
   "execution_count": 811,
   "metadata": {},
   "outputs": [
    {
     "name": "stdout",
     "output_type": "stream",
     "text": [
      "<class 'pandas.core.frame.DataFrame'>\n",
      "RangeIndex: 990 entries, 0 to 989\n",
      "Data columns (total 9 columns):\n",
      " #   Column        Non-Null Count  Dtype         \n",
      "---  ------        --------------  -----         \n",
      " 0   diff_day      990 non-null    int64         \n",
      " 1   dateValue     990 non-null    datetime64[ns]\n",
      " 2   timeValue     990 non-null    object        \n",
      " 3   hourValue     990 non-null    int64         \n",
      " 4   bread         871 non-null    object        \n",
      " 5   detail-bread  866 non-null    object        \n",
      " 6   img_len       990 non-null    int64         \n",
      " 7   vid_len       990 non-null    int64         \n",
      " 8   like          972 non-null    float64       \n",
      "dtypes: datetime64[ns](1), float64(1), int64(4), object(3)\n",
      "memory usage: 69.7+ KB\n"
     ]
    }
   ],
   "source": [
    "# 3] data type을 확인합니다.\n",
    "df.info()\n",
    "# -소수점이 단 한개도 없지만 왜인지 float로 되는 like.."
   ]
  },
  {
   "cell_type": "code",
   "execution_count": 4,
   "metadata": {},
   "outputs": [
    {
     "data": {
      "text/plain": [
       "diff_day          0\n",
       "dateValue         0\n",
       "timeValue         0\n",
       "hourValue         0\n",
       "bread           111\n",
       "detail-bread    115\n",
       "img_len           0\n",
       "vid_len           0\n",
       "like              0\n",
       "dtype: int64"
      ]
     },
     "execution_count": 4,
     "metadata": {},
     "output_type": "execute_result"
    }
   ],
   "source": [
    "## like를 int 타입으로 바꾸기 위해 like컬럼의 결측치를 제거해줍니다.  [[데이터 전처리]]\n",
    "df = df.dropna(subset=['like'])\n",
    "df.isnull().sum()\n",
    "## [해석] like 컬럼 결측치 지워졌습니다."
   ]
  },
  {
   "cell_type": "code",
   "execution_count": 813,
   "metadata": {},
   "outputs": [
    {
     "name": "stdout",
     "output_type": "stream",
     "text": [
      "<class 'pandas.core.frame.DataFrame'>\n",
      "Int64Index: 972 entries, 0 to 989\n",
      "Data columns (total 9 columns):\n",
      " #   Column        Non-Null Count  Dtype         \n",
      "---  ------        --------------  -----         \n",
      " 0   diff_day      972 non-null    int64         \n",
      " 1   dateValue     972 non-null    datetime64[ns]\n",
      " 2   timeValue     972 non-null    object        \n",
      " 3   hourValue     972 non-null    int64         \n",
      " 4   bread         861 non-null    object        \n",
      " 5   detail-bread  857 non-null    object        \n",
      " 6   img_len       972 non-null    int64         \n",
      " 7   vid_len       972 non-null    int64         \n",
      " 8   like          972 non-null    int32         \n",
      "dtypes: datetime64[ns](1), int32(1), int64(4), object(3)\n",
      "memory usage: 72.1+ KB\n"
     ]
    }
   ],
   "source": [
    "##like를 float에서 int형식으로 바꿔줍니다 .\n",
    "df = df.astype({'like': int})\n",
    "df.info()\n",
    "## [해석] like 컬럼에 데이터타입이 변경되었습니다."
   ]
  },
  {
   "cell_type": "markdown",
   "metadata": {},
   "source": [
    "\n",
    " ### 컬럼별 데이터 타입 해석\n",
    "\n",
    "\n",
    "    1. diff_day: 숫자형 변수(연속형 변수)\n",
    "    1. dataValue: 날짜변수(범주형 변수)\n",
    "    2. timeValue: 연속형 변수\n",
    "    3. hourValue: 숫자형 변수(범주형 변수)\n",
    "    3. bread: 문자형 변수(범주형 변수)\n",
    "    4. detail-bread: 문자형 변수(범주형 변수)\n",
    "    4. img_len: 숫자형 변수(이산형 변수) \n",
    "    5. vid_len: 숫자형 변수(이산형 변수).\n",
    "    6. likes: 숫자형 변수(이산형 변수)\n",
    "   "
   ]
  },
  {
   "cell_type": "code",
   "execution_count": 814,
   "metadata": {},
   "outputs": [
    {
     "data": {
      "text/html": [
       "<div>\n",
       "<style scoped>\n",
       "    .dataframe tbody tr th:only-of-type {\n",
       "        vertical-align: middle;\n",
       "    }\n",
       "\n",
       "    .dataframe tbody tr th {\n",
       "        vertical-align: top;\n",
       "    }\n",
       "\n",
       "    .dataframe thead th {\n",
       "        text-align: right;\n",
       "    }\n",
       "</style>\n",
       "<table border=\"1\" class=\"dataframe\">\n",
       "  <thead>\n",
       "    <tr style=\"text-align: right;\">\n",
       "      <th></th>\n",
       "      <th>diff_day</th>\n",
       "      <th>hourValue</th>\n",
       "      <th>img_len</th>\n",
       "      <th>vid_len</th>\n",
       "      <th>like</th>\n",
       "    </tr>\n",
       "  </thead>\n",
       "  <tbody>\n",
       "    <tr>\n",
       "      <th>count</th>\n",
       "      <td>972.000000</td>\n",
       "      <td>972.000000</td>\n",
       "      <td>972.000000</td>\n",
       "      <td>972.000000</td>\n",
       "      <td>972.000000</td>\n",
       "    </tr>\n",
       "    <tr>\n",
       "      <th>mean</th>\n",
       "      <td>10.976337</td>\n",
       "      <td>15.307613</td>\n",
       "      <td>2.431070</td>\n",
       "      <td>0.088477</td>\n",
       "      <td>169.387860</td>\n",
       "    </tr>\n",
       "    <tr>\n",
       "      <th>std</th>\n",
       "      <td>31.421431</td>\n",
       "      <td>5.298604</td>\n",
       "      <td>1.998038</td>\n",
       "      <td>0.298280</td>\n",
       "      <td>780.827083</td>\n",
       "    </tr>\n",
       "    <tr>\n",
       "      <th>min</th>\n",
       "      <td>0.000000</td>\n",
       "      <td>0.000000</td>\n",
       "      <td>0.000000</td>\n",
       "      <td>0.000000</td>\n",
       "      <td>0.000000</td>\n",
       "    </tr>\n",
       "    <tr>\n",
       "      <th>25%</th>\n",
       "      <td>3.000000</td>\n",
       "      <td>12.000000</td>\n",
       "      <td>1.000000</td>\n",
       "      <td>0.000000</td>\n",
       "      <td>25.000000</td>\n",
       "    </tr>\n",
       "    <tr>\n",
       "      <th>50%</th>\n",
       "      <td>6.000000</td>\n",
       "      <td>16.000000</td>\n",
       "      <td>2.000000</td>\n",
       "      <td>0.000000</td>\n",
       "      <td>46.000000</td>\n",
       "    </tr>\n",
       "    <tr>\n",
       "      <th>75%</th>\n",
       "      <td>9.000000</td>\n",
       "      <td>19.000000</td>\n",
       "      <td>3.000000</td>\n",
       "      <td>0.000000</td>\n",
       "      <td>108.250000</td>\n",
       "    </tr>\n",
       "    <tr>\n",
       "      <th>max</th>\n",
       "      <td>355.000000</td>\n",
       "      <td>23.000000</td>\n",
       "      <td>10.000000</td>\n",
       "      <td>3.000000</td>\n",
       "      <td>19128.000000</td>\n",
       "    </tr>\n",
       "  </tbody>\n",
       "</table>\n",
       "</div>"
      ],
      "text/plain": [
       "         diff_day   hourValue     img_len     vid_len          like\n",
       "count  972.000000  972.000000  972.000000  972.000000    972.000000\n",
       "mean    10.976337   15.307613    2.431070    0.088477    169.387860\n",
       "std     31.421431    5.298604    1.998038    0.298280    780.827083\n",
       "min      0.000000    0.000000    0.000000    0.000000      0.000000\n",
       "25%      3.000000   12.000000    1.000000    0.000000     25.000000\n",
       "50%      6.000000   16.000000    2.000000    0.000000     46.000000\n",
       "75%      9.000000   19.000000    3.000000    0.000000    108.250000\n",
       "max    355.000000   23.000000   10.000000    3.000000  19128.000000"
      ]
     },
     "execution_count": 814,
     "metadata": {},
     "output_type": "execute_result"
    }
   ],
   "source": [
    "# 4]슷지형 변수만 뽑아서 기본 통계를 해 봅니다.\n",
    "df.describe()"
   ]
  },
  {
   "cell_type": "code",
   "execution_count": 815,
   "metadata": {},
   "outputs": [
    {
     "name": "stdout",
     "output_type": "stream",
     "text": [
      "85\n"
     ]
    },
    {
     "data": {
      "text/plain": [
       "array(['쿠키', '모닝빵', '스콘', '소금빵', '케이크', '크림브륄레', '타르트', nan, '머핀', '휘낭시에',\n",
       "       '연유빵', '도넛', '수플레', '마카롱', '앙금빵', '페스츄리', '피자빵', '크럼블', '까눌레', '잼',\n",
       "       '롤케이크', '크림빵', '과자', '식빵', '마들렌', '시나몬빵', '갸또쇼콜라', '깜빠뉴', '테린느',\n",
       "       '구겔호프', '맘모스빵', '팥빵', '브라우니', '갈레트', '소세지빵', '비스코티', '파운드',\n",
       "       '아몬드트윌', '잠봉뵈르', '붕어빵', '마리토쪼', '팬케이크', '도라야끼', '푸딩', '달고나', '파이',\n",
       "       '크루아상', '카스텔라', '모카번', '커피콩빵', '쉬폰', '바게트', '튀일', '베이글', '와플',\n",
       "       '양파빵', '바 ', '다쿠아즈', '티라미수', '치아바타', '랑그드샤', '핫케이크', '슈', '그릭요거트',\n",
       "       '코펜하겐', '크레페', '초콜렛', '소라빵', '프레즐', '구움과자', '소보로빵', '크러핀', '바브카',\n",
       "       '제누와즈', '에그슬럿', '진저브레드', '세이글', '치즈빵', '초코빵', '버터링', '요거트', '토스트',\n",
       "       '감자빵', '포카치아', '떡'], dtype=object)"
      ]
     },
     "execution_count": 815,
     "metadata": {},
     "output_type": "execute_result"
    }
   ],
   "source": [
    "# 5]범주형 변수(Categorical Variables)을 알아봅시디\n",
    "num_bread=df['bread'].unique()\n",
    "print(len(num_bread))\n",
    "num_bread"
   ]
  },
  {
   "cell_type": "markdown",
   "metadata": {},
   "source": [
    "#### 2-2 종속변수(타겟변수, y)의 탐색\n",
    "\n",
    "    - like : 좋아요 개수가 타겟변수가 됩니다. 왜냐면, 저는 좋아요의 개수를 맞추기 위함이기 때문입니다. "
   ]
  },
  {
   "cell_type": "code",
   "execution_count": 5,
   "metadata": {},
   "outputs": [
    {
     "data": {
      "text/plain": [
       "count      972.000000\n",
       "mean       169.387860\n",
       "std        780.827083\n",
       "min          0.000000\n",
       "25%         25.000000\n",
       "50%         46.000000\n",
       "75%        108.250000\n",
       "max      19128.000000\n",
       "Name: like, dtype: float64"
      ]
     },
     "execution_count": 5,
     "metadata": {},
     "output_type": "execute_result"
    }
   ],
   "source": [
    "# 1] 종속변수의기초 통계량\n",
    "df['like'].describe()"
   ]
  },
  {
   "cell_type": "code",
   "execution_count": 817,
   "metadata": {},
   "outputs": [
    {
     "data": {
      "text/plain": [
       "<AxesSubplot:ylabel='Frequency'>"
      ]
     },
     "execution_count": 817,
     "metadata": {},
     "output_type": "execute_result"
    },
    {
     "data": {
      "image/png": "[encoded data removed]",
      "text/plain": [
       "<Figure size 432x288 with 1 Axes>"
      ]
     },
     "metadata": {},
     "output_type": "display_data"
    }
   ],
   "source": [
    "# 2] 종속변수의 분포파악 -시각화를 해서 살펴봅니다.\n",
    "## 히스토그램입니다. \n",
    "df['like'].plot.hist(bins=50)"
   ]
  },
  {
   "cell_type": "code",
   "execution_count": 818,
   "metadata": {},
   "outputs": [
    {
     "data": {
      "image/png": "[encoded data removed]",
      "text/plain": [
       "<Figure size 432x288 with 1 Axes>"
      ]
     },
     "metadata": {},
     "output_type": "display_data"
    }
   ],
   "source": [
    "## boxplot 입니다.\n",
    "plt.boxplot(df['like'])\n",
    "plt.show()"
   ]
  },
  {
   "cell_type": "markdown",
   "metadata": {},
   "source": [
    "[해석] 평균과 너무 동떨어진 최대치 2개를 이상치로 판단합니다. 이상치를 제거하고 다시한번 분포를 파악하겠습니다. "
   ]
  },
  {
   "cell_type": "code",
   "execution_count": 6,
   "metadata": {},
   "outputs": [],
   "source": [
    "### 이상치 제거 - 가장큰 max개수 2개삭제 [[데이터 전처리]]\n",
    "df = df[df['like'] != 19128]\n",
    "df = df[df['like'] != 8803]"
   ]
  },
  {
   "cell_type": "code",
   "execution_count": 7,
   "metadata": {},
   "outputs": [
    {
     "data": {
      "text/plain": [
       "count     970.000000\n",
       "mean      140.942268\n",
       "std       402.849483\n",
       "min         0.000000\n",
       "25%        25.000000\n",
       "50%        46.000000\n",
       "75%       108.000000\n",
       "max      5068.000000\n",
       "Name: like, dtype: float64"
      ]
     },
     "execution_count": 7,
     "metadata": {},
     "output_type": "execute_result"
    }
   ],
   "source": [
    "df['like'].describe()"
   ]
  },
  {
   "cell_type": "code",
   "execution_count": 820,
   "metadata": {},
   "outputs": [
    {
     "data": {
      "text/plain": [
       "<AxesSubplot:ylabel='Frequency'>"
      ]
     },
     "execution_count": 820,
     "metadata": {},
     "output_type": "execute_result"
    },
    {
     "data": {
      "image/png": "[encoded data removed]",
      "text/plain": [
       "<Figure size 432x288 with 1 Axes>"
      ]
     },
     "metadata": {},
     "output_type": "display_data"
    }
   ],
   "source": [
    "## 히스토그램으로 분포파악\n",
    "df['like'].plot.hist(bins=50)"
   ]
  },
  {
   "cell_type": "code",
   "execution_count": 821,
   "metadata": {},
   "outputs": [
    {
     "data": {
      "image/png": "[encoded data removed]",
      "text/plain": [
       "<Figure size 432x288 with 1 Axes>"
      ]
     },
     "metadata": {},
     "output_type": "display_data"
    }
   ],
   "source": [
    "## boxplot으로 분포파악\n",
    "plt.boxplot(df['like'])\n",
    "plt.show()"
   ]
  },
  {
   "cell_type": "markdown",
   "metadata": {},
   "source": [
    "[해석] 보통 좋아요의 개수는 1~300사이에 분포하고 있고 1000개 이하가 대다수이고 1000개 이상인 게시물도 있고, 3000개 이상인 게시글고 몇개 존재한다. "
   ]
  },
  {
   "cell_type": "markdown",
   "metadata": {},
   "source": [
    "#### 2-3 설명변수(독립변수, features, attributes, x) 살펴보기\n",
    "    "
   ]
  },
  {
   "cell_type": "code",
   "execution_count": 822,
   "metadata": {},
   "outputs": [
    {
     "name": "stderr",
     "output_type": "stream",
     "text": [
      "<ipython-input-822-5177f6ea2cd6>:8: UserWarning: To output multiple subplots, the figure containing the passed axes is being cleared\n",
      "  df[contents_columns].hist(ax=ax, alpha=0.5)\n"
     ]
    },
    {
     "data": {
      "image/png": "[encoded data removed]",
      "text/plain": [
       "<Figure size 1152x720 with 2 Axes>"
      ]
     },
     "metadata": {},
     "output_type": "display_data"
    }
   ],
   "source": [
    "# 1] img_len & vid_len 살펴보기(이미지개수, 비디오개수)\n",
    "##  히스토그램을 통해 분포도 파악\n",
    "contents_columns=['img_len', 'vid_len']\n",
    "\n",
    "fig = plt.figure(figsize = (16, 10))\n",
    "ax = fig.gca()  # Axes 생성\n",
    "\n",
    "df[contents_columns].hist(ax=ax, alpha=0.5)\n",
    "plt.show()"
   ]
  },
  {
   "cell_type": "code",
   "execution_count": 823,
   "metadata": {},
   "outputs": [
    {
     "data": {
      "text/plain": [
       "1     414\n",
       "2     204\n",
       "3     134\n",
       "4      69\n",
       "5      41\n",
       "6      31\n",
       "7      21\n",
       "0      20\n",
       "8      14\n",
       "10     12\n",
       "9      10\n",
       "Name: img_len, dtype: int64"
      ]
     },
     "execution_count": 823,
     "metadata": {},
     "output_type": "execute_result"
    }
   ],
   "source": [
    "##  이미지 개수 파악\n",
    "df['img_len'].value_counts()\n",
    "## [해석] 1개를 가장 많이 올리지만 여러개 올리기도 합니다 1부터 비교적 반비례하게 게시글 개수가 적어집니다."
   ]
  },
  {
   "cell_type": "code",
   "execution_count": 824,
   "metadata": {},
   "outputs": [
    {
     "data": {
      "text/plain": [
       "0    889\n",
       "1     79\n",
       "3      1\n",
       "2      1\n",
       "Name: vid_len, dtype: int64"
      ]
     },
     "execution_count": 824,
     "metadata": {},
     "output_type": "execute_result"
    }
   ],
   "source": [
    "##  비디오 개수 파악\n",
    "df['vid_len'].value_counts()\n",
    "## [해석] 최대 3개까지 비디오개수가 있지만 대다수가 0개 이고 보통 1개의 비디오를 올립니다. "
   ]
  },
  {
   "cell_type": "code",
   "execution_count": 825,
   "metadata": {
    "scrolled": true
   },
   "outputs": [
    {
     "data": {
      "text/html": [
       "<div>\n",
       "<style scoped>\n",
       "    .dataframe tbody tr th:only-of-type {\n",
       "        vertical-align: middle;\n",
       "    }\n",
       "\n",
       "    .dataframe tbody tr th {\n",
       "        vertical-align: top;\n",
       "    }\n",
       "\n",
       "    .dataframe thead th {\n",
       "        text-align: right;\n",
       "    }\n",
       "</style>\n",
       "<table border=\"1\" class=\"dataframe\">\n",
       "  <thead>\n",
       "    <tr style=\"text-align: right;\">\n",
       "      <th></th>\n",
       "      <th>diff_day</th>\n",
       "      <th>dateValue</th>\n",
       "      <th>timeValue</th>\n",
       "      <th>hourValue</th>\n",
       "      <th>bread</th>\n",
       "      <th>detail-bread</th>\n",
       "      <th>img_len</th>\n",
       "      <th>vid_len</th>\n",
       "      <th>like</th>\n",
       "    </tr>\n",
       "  </thead>\n",
       "  <tbody>\n",
       "    <tr>\n",
       "      <th>0</th>\n",
       "      <td>355</td>\n",
       "      <td>2020-10-16</td>\n",
       "      <td>22:11:40</td>\n",
       "      <td>22</td>\n",
       "      <td>쿠키</td>\n",
       "      <td>크랙쿠키</td>\n",
       "      <td>1</td>\n",
       "      <td>0</td>\n",
       "      <td>24</td>\n",
       "    </tr>\n",
       "    <tr>\n",
       "      <th>1</th>\n",
       "      <td>355</td>\n",
       "      <td>2020-10-16</td>\n",
       "      <td>22:13:32</td>\n",
       "      <td>22</td>\n",
       "      <td>머핀</td>\n",
       "      <td>초코머핀</td>\n",
       "      <td>1</td>\n",
       "      <td>0</td>\n",
       "      <td>24</td>\n",
       "    </tr>\n",
       "    <tr>\n",
       "      <th>2</th>\n",
       "      <td>293</td>\n",
       "      <td>2020-12-17</td>\n",
       "      <td>14:43:00</td>\n",
       "      <td>14</td>\n",
       "      <td>스콘</td>\n",
       "      <td>스콘</td>\n",
       "      <td>1</td>\n",
       "      <td>0</td>\n",
       "      <td>22</td>\n",
       "    </tr>\n",
       "    <tr>\n",
       "      <th>3</th>\n",
       "      <td>281</td>\n",
       "      <td>2020-12-29</td>\n",
       "      <td>15:00:17</td>\n",
       "      <td>15</td>\n",
       "      <td>쿠키</td>\n",
       "      <td>치즈쿠키</td>\n",
       "      <td>1</td>\n",
       "      <td>0</td>\n",
       "      <td>20</td>\n",
       "    </tr>\n",
       "    <tr>\n",
       "      <th>4</th>\n",
       "      <td>278</td>\n",
       "      <td>2021-01-01</td>\n",
       "      <td>18:58:38</td>\n",
       "      <td>18</td>\n",
       "      <td>머핀</td>\n",
       "      <td>초코머핀</td>\n",
       "      <td>1</td>\n",
       "      <td>0</td>\n",
       "      <td>24</td>\n",
       "    </tr>\n",
       "    <tr>\n",
       "      <th>...</th>\n",
       "      <td>...</td>\n",
       "      <td>...</td>\n",
       "      <td>...</td>\n",
       "      <td>...</td>\n",
       "      <td>...</td>\n",
       "      <td>...</td>\n",
       "      <td>...</td>\n",
       "      <td>...</td>\n",
       "      <td>...</td>\n",
       "    </tr>\n",
       "    <tr>\n",
       "      <th>965</th>\n",
       "      <td>1</td>\n",
       "      <td>2021-10-05</td>\n",
       "      <td>23:55:48</td>\n",
       "      <td>23</td>\n",
       "      <td>크림브륄레</td>\n",
       "      <td>크림브뤨레</td>\n",
       "      <td>0</td>\n",
       "      <td>1</td>\n",
       "      <td>0</td>\n",
       "    </tr>\n",
       "    <tr>\n",
       "      <th>966</th>\n",
       "      <td>0</td>\n",
       "      <td>2021-10-06</td>\n",
       "      <td>00:07:57</td>\n",
       "      <td>0</td>\n",
       "      <td>케이크</td>\n",
       "      <td>샤인머스켓케이크</td>\n",
       "      <td>4</td>\n",
       "      <td>0</td>\n",
       "      <td>21</td>\n",
       "    </tr>\n",
       "    <tr>\n",
       "      <th>967</th>\n",
       "      <td>0</td>\n",
       "      <td>2021-10-06</td>\n",
       "      <td>00:28:00</td>\n",
       "      <td>0</td>\n",
       "      <td>스콘</td>\n",
       "      <td>플레인스콘</td>\n",
       "      <td>5</td>\n",
       "      <td>0</td>\n",
       "      <td>4</td>\n",
       "    </tr>\n",
       "    <tr>\n",
       "      <th>968</th>\n",
       "      <td>0</td>\n",
       "      <td>2021-10-06</td>\n",
       "      <td>02:08:03</td>\n",
       "      <td>2</td>\n",
       "      <td>쿠키</td>\n",
       "      <td>오렌지쿠키</td>\n",
       "      <td>1</td>\n",
       "      <td>0</td>\n",
       "      <td>2</td>\n",
       "    </tr>\n",
       "    <tr>\n",
       "      <th>969</th>\n",
       "      <td>0</td>\n",
       "      <td>2021-10-06</td>\n",
       "      <td>02:10:23</td>\n",
       "      <td>2</td>\n",
       "      <td>쿠키</td>\n",
       "      <td>마카다미아쿠키</td>\n",
       "      <td>1</td>\n",
       "      <td>0</td>\n",
       "      <td>1</td>\n",
       "    </tr>\n",
       "  </tbody>\n",
       "</table>\n",
       "<p>970 rows × 9 columns</p>\n",
       "</div>"
      ],
      "text/plain": [
       "     diff_day  dateValue timeValue  hourValue  bread detail-bread  img_len  \\\n",
       "0         355 2020-10-16  22:11:40         22     쿠키         크랙쿠키        1   \n",
       "1         355 2020-10-16  22:13:32         22     머핀         초코머핀        1   \n",
       "2         293 2020-12-17  14:43:00         14     스콘           스콘        1   \n",
       "3         281 2020-12-29  15:00:17         15     쿠키         치즈쿠키        1   \n",
       "4         278 2021-01-01  18:58:38         18     머핀         초코머핀        1   \n",
       "..        ...        ...       ...        ...    ...          ...      ...   \n",
       "965         1 2021-10-05  23:55:48         23  크림브륄레        크림브뤨레        0   \n",
       "966         0 2021-10-06  00:07:57          0    케이크     샤인머스켓케이크        4   \n",
       "967         0 2021-10-06  00:28:00          0     스콘        플레인스콘        5   \n",
       "968         0 2021-10-06  02:08:03          2     쿠키        오렌지쿠키        1   \n",
       "969         0 2021-10-06  02:10:23          2     쿠키      마카다미아쿠키        1   \n",
       "\n",
       "     vid_len  like  \n",
       "0          0    24  \n",
       "1          0    24  \n",
       "2          0    22  \n",
       "3          0    20  \n",
       "4          0    24  \n",
       "..       ...   ...  \n",
       "965        1     0  \n",
       "966        0    21  \n",
       "967        0     4  \n",
       "968        0     2  \n",
       "969        0     1  \n",
       "\n",
       "[970 rows x 9 columns]"
      ]
     },
     "execution_count": 825,
     "metadata": {},
     "output_type": "execute_result"
    }
   ],
   "source": [
    "# 2]dateValue & timeValue 살펴보기(데이터업로드 날짜, 데이터업로드 시간)\n",
    "## 날짜>시간 순으로 정렬\n",
    "df2 = df.sort_values(['dateValue', 'timeValue']).reset_index().drop(['index'], axis=1)\n",
    "df2\n",
    "### [해석] 2020/10/16 ~ 2021/10/6일 총 1년간 게시물이 있다."
   ]
  },
  {
   "cell_type": "code",
   "execution_count": 826,
   "metadata": {},
   "outputs": [
    {
     "data": {
      "image/png": "[encoded data removed]",
      "text/plain": [
       "<Figure size 432x288 with 1 Axes>"
      ]
     },
     "metadata": {},
     "output_type": "display_data"
    }
   ],
   "source": [
    "## 날짜의 분포도알아보기\n",
    "df_dateValue = df[\"dateValue\"].value_counts().reset_index() #dataValue와 value_count를 데이터프레임으로 생성\n",
    "\n",
    "plt.title(\"dataValue Scatter Plot\", fontsize=15) #제목\n",
    "plt.scatter(df_dateValue[\"index\"], df_dateValue[\"dateValue\"], color='grey', alpha=.5)\n",
    "plt.xlabel(\"date\", fontsize=13)\n",
    "plt.ylabel(\"count\", fontsize=13)\n",
    "plt.grid()\n",
    "plt.show()\n",
    "## [해석]보통 2021/10월에 해당하는 게시물을이 대다수이다. 2020년에 해당하는 게시물을 4개밖에 없다."
   ]
  },
  {
   "cell_type": "code",
   "execution_count": 827,
   "metadata": {
    "scrolled": true
   },
   "outputs": [
    {
     "data": {
      "text/html": [
       "<div>\n",
       "<style scoped>\n",
       "    .dataframe tbody tr th:only-of-type {\n",
       "        vertical-align: middle;\n",
       "    }\n",
       "\n",
       "    .dataframe tbody tr th {\n",
       "        vertical-align: top;\n",
       "    }\n",
       "\n",
       "    .dataframe thead th {\n",
       "        text-align: right;\n",
       "    }\n",
       "</style>\n",
       "<table border=\"1\" class=\"dataframe\">\n",
       "  <thead>\n",
       "    <tr style=\"text-align: right;\">\n",
       "      <th></th>\n",
       "      <th>index</th>\n",
       "      <th>hourValue</th>\n",
       "    </tr>\n",
       "  </thead>\n",
       "  <tbody>\n",
       "    <tr>\n",
       "      <th>0</th>\n",
       "      <td>15</td>\n",
       "      <td>80</td>\n",
       "    </tr>\n",
       "    <tr>\n",
       "      <th>1</th>\n",
       "      <td>17</td>\n",
       "      <td>71</td>\n",
       "    </tr>\n",
       "    <tr>\n",
       "      <th>2</th>\n",
       "      <td>19</td>\n",
       "      <td>70</td>\n",
       "    </tr>\n",
       "    <tr>\n",
       "      <th>3</th>\n",
       "      <td>21</td>\n",
       "      <td>68</td>\n",
       "    </tr>\n",
       "    <tr>\n",
       "      <th>4</th>\n",
       "      <td>16</td>\n",
       "      <td>65</td>\n",
       "    </tr>\n",
       "    <tr>\n",
       "      <th>5</th>\n",
       "      <td>22</td>\n",
       "      <td>65</td>\n",
       "    </tr>\n",
       "    <tr>\n",
       "      <th>6</th>\n",
       "      <td>18</td>\n",
       "      <td>60</td>\n",
       "    </tr>\n",
       "    <tr>\n",
       "      <th>7</th>\n",
       "      <td>20</td>\n",
       "      <td>60</td>\n",
       "    </tr>\n",
       "    <tr>\n",
       "      <th>8</th>\n",
       "      <td>13</td>\n",
       "      <td>58</td>\n",
       "    </tr>\n",
       "    <tr>\n",
       "      <th>9</th>\n",
       "      <td>14</td>\n",
       "      <td>58</td>\n",
       "    </tr>\n",
       "    <tr>\n",
       "      <th>10</th>\n",
       "      <td>12</td>\n",
       "      <td>57</td>\n",
       "    </tr>\n",
       "    <tr>\n",
       "      <th>11</th>\n",
       "      <td>23</td>\n",
       "      <td>47</td>\n",
       "    </tr>\n",
       "    <tr>\n",
       "      <th>12</th>\n",
       "      <td>11</td>\n",
       "      <td>45</td>\n",
       "    </tr>\n",
       "    <tr>\n",
       "      <th>13</th>\n",
       "      <td>9</td>\n",
       "      <td>42</td>\n",
       "    </tr>\n",
       "    <tr>\n",
       "      <th>14</th>\n",
       "      <td>10</td>\n",
       "      <td>39</td>\n",
       "    </tr>\n",
       "    <tr>\n",
       "      <th>15</th>\n",
       "      <td>8</td>\n",
       "      <td>30</td>\n",
       "    </tr>\n",
       "    <tr>\n",
       "      <th>16</th>\n",
       "      <td>0</td>\n",
       "      <td>22</td>\n",
       "    </tr>\n",
       "    <tr>\n",
       "      <th>17</th>\n",
       "      <td>1</td>\n",
       "      <td>11</td>\n",
       "    </tr>\n",
       "    <tr>\n",
       "      <th>18</th>\n",
       "      <td>2</td>\n",
       "      <td>7</td>\n",
       "    </tr>\n",
       "    <tr>\n",
       "      <th>19</th>\n",
       "      <td>4</td>\n",
       "      <td>5</td>\n",
       "    </tr>\n",
       "    <tr>\n",
       "      <th>20</th>\n",
       "      <td>6</td>\n",
       "      <td>4</td>\n",
       "    </tr>\n",
       "    <tr>\n",
       "      <th>21</th>\n",
       "      <td>5</td>\n",
       "      <td>3</td>\n",
       "    </tr>\n",
       "    <tr>\n",
       "      <th>22</th>\n",
       "      <td>7</td>\n",
       "      <td>3</td>\n",
       "    </tr>\n",
       "  </tbody>\n",
       "</table>\n",
       "</div>"
      ],
      "text/plain": [
       "    index  hourValue\n",
       "0      15         80\n",
       "1      17         71\n",
       "2      19         70\n",
       "3      21         68\n",
       "4      16         65\n",
       "5      22         65\n",
       "6      18         60\n",
       "7      20         60\n",
       "8      13         58\n",
       "9      14         58\n",
       "10     12         57\n",
       "11     23         47\n",
       "12     11         45\n",
       "13      9         42\n",
       "14     10         39\n",
       "15      8         30\n",
       "16      0         22\n",
       "17      1         11\n",
       "18      2          7\n",
       "19      4          5\n",
       "20      6          4\n",
       "21      5          3\n",
       "22      7          3"
      ]
     },
     "execution_count": 827,
     "metadata": {},
     "output_type": "execute_result"
    }
   ],
   "source": [
    "## 시간대별 개수를 확인\n",
    "df_hour = df[\"hourValue\"].value_counts().reset_index()\n",
    "df_hour"
   ]
  },
  {
   "cell_type": "code",
   "execution_count": 828,
   "metadata": {},
   "outputs": [
    {
     "data": {
      "image/png": "[encoded data removed]",
      "text/plain": [
       "<Figure size 432x288 with 1 Axes>"
      ]
     },
     "metadata": {},
     "output_type": "display_data"
    }
   ],
   "source": [
    "### bar plot으로 시각화해서 살펴보기\n",
    "plt.title(\"Bar Plot\", fontsize=15)\n",
    "plt.bar(df_hour[\"index\"], df_hour[\"hourValue\"],color='k', alpha=.3)\n",
    "plt.ylabel(\"count\", fontsize=12)\n",
    "plt.xlabel(\"hour\", fontsize=12)\n",
    "plt.show()"
   ]
  },
  {
   "cell_type": "code",
   "execution_count": 829,
   "metadata": {},
   "outputs": [
    {
     "data": {
      "text/plain": [
       "Text(0.5, 0, 'hour')"
      ]
     },
     "execution_count": 829,
     "metadata": {},
     "output_type": "execute_result"
    },
    {
     "data": {
      "image/png": "[encoded data removed]",
      "text/plain": [
       "<Figure size 432x288 with 1 Axes>"
      ]
     },
     "metadata": {},
     "output_type": "display_data"
    }
   ],
   "source": [
    "### line Plot으로 시각화해서 살펴보기\n",
    "df_hour = df_hour.sort_values(['index']) #시간별로 정렬\n",
    "plt.plot(df_hour[\"index\"], df_hour[\"hourValue\"],color='k', alpha=.3)\n",
    "plt.title(\"line Plot\", fontsize=15)\n",
    "plt.ylabel(\"count\", fontsize=12)\n",
    "plt.xlabel(\"hour\", fontsize=12)\n",
    "#### [해석] 두가지 시각화 plot을 살펴보았을때 오후 3시에 가장 많은 게시물을 올렸으며 오후3시~8시 사이에 가장 많이 게시글을 올린다. "
   ]
  },
  {
   "cell_type": "code",
   "execution_count": 830,
   "metadata": {},
   "outputs": [
    {
     "name": "stdout",
     "output_type": "stream",
     "text": [
      "85\n"
     ]
    },
    {
     "data": {
      "text/plain": [
       "array(['쿠키', '모닝빵', '스콘', '소금빵', '케이크', '크림브륄레', '타르트', nan, '머핀', '휘낭시에',\n",
       "       '연유빵', '도넛', '수플레', '마카롱', '앙금빵', '페스츄리', '피자빵', '크럼블', '까눌레', '잼',\n",
       "       '롤케이크', '크림빵', '과자', '식빵', '마들렌', '시나몬빵', '갸또쇼콜라', '깜빠뉴', '테린느',\n",
       "       '구겔호프', '맘모스빵', '팥빵', '브라우니', '갈레트', '소세지빵', '비스코티', '파운드',\n",
       "       '아몬드트윌', '잠봉뵈르', '붕어빵', '마리토쪼', '팬케이크', '도라야끼', '푸딩', '달고나', '파이',\n",
       "       '크루아상', '카스텔라', '모카번', '커피콩빵', '쉬폰', '바게트', '튀일', '베이글', '와플',\n",
       "       '양파빵', '바 ', '다쿠아즈', '티라미수', '치아바타', '랑그드샤', '핫케이크', '슈', '그릭요거트',\n",
       "       '코펜하겐', '크레페', '초콜렛', '소라빵', '프레즐', '구움과자', '소보로빵', '크러핀', '바브카',\n",
       "       '제누와즈', '에그슬럿', '진저브레드', '세이글', '치즈빵', '초코빵', '버터링', '요거트', '토스트',\n",
       "       '감자빵', '포카치아', '떡'], dtype=object)"
      ]
     },
     "execution_count": 830,
     "metadata": {},
     "output_type": "execute_result"
    }
   ],
   "source": [
    "# 3]bread 살펴보기(빵 종류)\n",
    "## 빵 종류확인\n",
    "num_bread=df['bread'].unique()\n",
    "print(len(num_bread))\n",
    "num_bread\n",
    "## [해석] 89종류의 빵이 있다. "
   ]
  },
  {
   "cell_type": "code",
   "execution_count": 831,
   "metadata": {
    "scrolled": true
   },
   "outputs": [
    {
     "data": {
      "text/html": [
       "<div>\n",
       "<style scoped>\n",
       "    .dataframe tbody tr th:only-of-type {\n",
       "        vertical-align: middle;\n",
       "    }\n",
       "\n",
       "    .dataframe tbody tr th {\n",
       "        vertical-align: top;\n",
       "    }\n",
       "\n",
       "    .dataframe thead th {\n",
       "        text-align: right;\n",
       "    }\n",
       "</style>\n",
       "<table border=\"1\" class=\"dataframe\">\n",
       "  <thead>\n",
       "    <tr style=\"text-align: right;\">\n",
       "      <th></th>\n",
       "      <th>index</th>\n",
       "      <th>bread</th>\n",
       "    </tr>\n",
       "  </thead>\n",
       "  <tbody>\n",
       "    <tr>\n",
       "      <th>0</th>\n",
       "      <td>쿠키</td>\n",
       "      <td>138</td>\n",
       "    </tr>\n",
       "    <tr>\n",
       "      <th>1</th>\n",
       "      <td>케이크</td>\n",
       "      <td>133</td>\n",
       "    </tr>\n",
       "    <tr>\n",
       "      <th>2</th>\n",
       "      <td>스콘</td>\n",
       "      <td>56</td>\n",
       "    </tr>\n",
       "    <tr>\n",
       "      <th>3</th>\n",
       "      <td>휘낭시에</td>\n",
       "      <td>50</td>\n",
       "    </tr>\n",
       "    <tr>\n",
       "      <th>4</th>\n",
       "      <td>마들렌</td>\n",
       "      <td>43</td>\n",
       "    </tr>\n",
       "    <tr>\n",
       "      <th>5</th>\n",
       "      <td>파운드</td>\n",
       "      <td>43</td>\n",
       "    </tr>\n",
       "    <tr>\n",
       "      <th>6</th>\n",
       "      <td>타르트</td>\n",
       "      <td>41</td>\n",
       "    </tr>\n",
       "    <tr>\n",
       "      <th>7</th>\n",
       "      <td>마카롱</td>\n",
       "      <td>32</td>\n",
       "    </tr>\n",
       "    <tr>\n",
       "      <th>8</th>\n",
       "      <td>브라우니</td>\n",
       "      <td>23</td>\n",
       "    </tr>\n",
       "    <tr>\n",
       "      <th>9</th>\n",
       "      <td>식빵</td>\n",
       "      <td>23</td>\n",
       "    </tr>\n",
       "    <tr>\n",
       "      <th>10</th>\n",
       "      <td>머핀</td>\n",
       "      <td>21</td>\n",
       "    </tr>\n",
       "    <tr>\n",
       "      <th>11</th>\n",
       "      <td>소금빵</td>\n",
       "      <td>16</td>\n",
       "    </tr>\n",
       "    <tr>\n",
       "      <th>12</th>\n",
       "      <td>크럼블</td>\n",
       "      <td>11</td>\n",
       "    </tr>\n",
       "    <tr>\n",
       "      <th>13</th>\n",
       "      <td>파이</td>\n",
       "      <td>10</td>\n",
       "    </tr>\n",
       "    <tr>\n",
       "      <th>14</th>\n",
       "      <td>슈</td>\n",
       "      <td>10</td>\n",
       "    </tr>\n",
       "    <tr>\n",
       "      <th>15</th>\n",
       "      <td>도넛</td>\n",
       "      <td>10</td>\n",
       "    </tr>\n",
       "    <tr>\n",
       "      <th>16</th>\n",
       "      <td>갸또쇼콜라</td>\n",
       "      <td>9</td>\n",
       "    </tr>\n",
       "    <tr>\n",
       "      <th>17</th>\n",
       "      <td>베이글</td>\n",
       "      <td>8</td>\n",
       "    </tr>\n",
       "    <tr>\n",
       "      <th>18</th>\n",
       "      <td>다쿠아즈</td>\n",
       "      <td>8</td>\n",
       "    </tr>\n",
       "    <tr>\n",
       "      <th>19</th>\n",
       "      <td>롤케이크</td>\n",
       "      <td>7</td>\n",
       "    </tr>\n",
       "    <tr>\n",
       "      <th>20</th>\n",
       "      <td>모닝빵</td>\n",
       "      <td>6</td>\n",
       "    </tr>\n",
       "    <tr>\n",
       "      <th>21</th>\n",
       "      <td>구겔호프</td>\n",
       "      <td>6</td>\n",
       "    </tr>\n",
       "    <tr>\n",
       "      <th>22</th>\n",
       "      <td>까눌레</td>\n",
       "      <td>6</td>\n",
       "    </tr>\n",
       "    <tr>\n",
       "      <th>23</th>\n",
       "      <td>소세지빵</td>\n",
       "      <td>6</td>\n",
       "    </tr>\n",
       "    <tr>\n",
       "      <th>24</th>\n",
       "      <td>그릭요거트</td>\n",
       "      <td>6</td>\n",
       "    </tr>\n",
       "    <tr>\n",
       "      <th>25</th>\n",
       "      <td>팥빵</td>\n",
       "      <td>6</td>\n",
       "    </tr>\n",
       "    <tr>\n",
       "      <th>26</th>\n",
       "      <td>크루아상</td>\n",
       "      <td>6</td>\n",
       "    </tr>\n",
       "    <tr>\n",
       "      <th>27</th>\n",
       "      <td>달고나</td>\n",
       "      <td>5</td>\n",
       "    </tr>\n",
       "    <tr>\n",
       "      <th>28</th>\n",
       "      <td>과자</td>\n",
       "      <td>5</td>\n",
       "    </tr>\n",
       "    <tr>\n",
       "      <th>29</th>\n",
       "      <td>깜빠뉴</td>\n",
       "      <td>5</td>\n",
       "    </tr>\n",
       "    <tr>\n",
       "      <th>30</th>\n",
       "      <td>페스츄리</td>\n",
       "      <td>5</td>\n",
       "    </tr>\n",
       "    <tr>\n",
       "      <th>31</th>\n",
       "      <td>커피콩빵</td>\n",
       "      <td>4</td>\n",
       "    </tr>\n",
       "    <tr>\n",
       "      <th>32</th>\n",
       "      <td>티라미수</td>\n",
       "      <td>4</td>\n",
       "    </tr>\n",
       "    <tr>\n",
       "      <th>33</th>\n",
       "      <td>바</td>\n",
       "      <td>4</td>\n",
       "    </tr>\n",
       "    <tr>\n",
       "      <th>34</th>\n",
       "      <td>바게트</td>\n",
       "      <td>4</td>\n",
       "    </tr>\n",
       "    <tr>\n",
       "      <th>35</th>\n",
       "      <td>모카번</td>\n",
       "      <td>4</td>\n",
       "    </tr>\n",
       "    <tr>\n",
       "      <th>36</th>\n",
       "      <td>푸딩</td>\n",
       "      <td>4</td>\n",
       "    </tr>\n",
       "    <tr>\n",
       "      <th>37</th>\n",
       "      <td>비스코티</td>\n",
       "      <td>4</td>\n",
       "    </tr>\n",
       "    <tr>\n",
       "      <th>38</th>\n",
       "      <td>테린느</td>\n",
       "      <td>4</td>\n",
       "    </tr>\n",
       "    <tr>\n",
       "      <th>39</th>\n",
       "      <td>소보로빵</td>\n",
       "      <td>3</td>\n",
       "    </tr>\n",
       "  </tbody>\n",
       "</table>\n",
       "</div>"
      ],
      "text/plain": [
       "    index  bread\n",
       "0      쿠키    138\n",
       "1     케이크    133\n",
       "2      스콘     56\n",
       "3    휘낭시에     50\n",
       "4     마들렌     43\n",
       "5     파운드     43\n",
       "6     타르트     41\n",
       "7     마카롱     32\n",
       "8    브라우니     23\n",
       "9      식빵     23\n",
       "10     머핀     21\n",
       "11    소금빵     16\n",
       "12    크럼블     11\n",
       "13     파이     10\n",
       "14      슈     10\n",
       "15     도넛     10\n",
       "16  갸또쇼콜라      9\n",
       "17    베이글      8\n",
       "18   다쿠아즈      8\n",
       "19   롤케이크      7\n",
       "20    모닝빵      6\n",
       "21   구겔호프      6\n",
       "22    까눌레      6\n",
       "23   소세지빵      6\n",
       "24  그릭요거트      6\n",
       "25     팥빵      6\n",
       "26   크루아상      6\n",
       "27    달고나      5\n",
       "28     과자      5\n",
       "29    깜빠뉴      5\n",
       "30   페스츄리      5\n",
       "31   커피콩빵      4\n",
       "32   티라미수      4\n",
       "33     바       4\n",
       "34    바게트      4\n",
       "35    모카번      4\n",
       "36     푸딩      4\n",
       "37   비스코티      4\n",
       "38    테린느      4\n",
       "39   소보로빵      3"
      ]
     },
     "execution_count": 831,
     "metadata": {},
     "output_type": "execute_result"
    }
   ],
   "source": [
    "## 빵 종류별 개수 확인 \n",
    "df_bread = df[\"bread\"].value_counts().reset_index()\n",
    "df_bread.head(40)\n",
    "## [해석] 쿠키, 케이크가 압도적으로 많고 스콘, 휘낭시에, 마들렌, 파운드, 타르트가 많이 나타난다. \n",
    "## 16번째로 많은 도넛밑으로는 총 69개에 해당하는 빵 종류는 10개 미만이다.\n",
    "## 상위 16개의 빵 종류들이 총 659개로 전체 990개중에서 67%에 해당한다. "
   ]
  },
  {
   "cell_type": "code",
   "execution_count": 832,
   "metadata": {},
   "outputs": [
    {
     "name": "stdout",
     "output_type": "stream",
     "text": [
      "쿠키 게시글 개수:  137\n",
      "세부 쿠키 종류 개수:  47\n"
     ]
    },
    {
     "data": {
      "text/html": [
       "<div>\n",
       "<style scoped>\n",
       "    .dataframe tbody tr th:only-of-type {\n",
       "        vertical-align: middle;\n",
       "    }\n",
       "\n",
       "    .dataframe tbody tr th {\n",
       "        vertical-align: top;\n",
       "    }\n",
       "\n",
       "    .dataframe thead th {\n",
       "        text-align: right;\n",
       "    }\n",
       "</style>\n",
       "<table border=\"1\" class=\"dataframe\">\n",
       "  <thead>\n",
       "    <tr style=\"text-align: right;\">\n",
       "      <th></th>\n",
       "      <th>index</th>\n",
       "      <th>detail-bread</th>\n",
       "    </tr>\n",
       "  </thead>\n",
       "  <tbody>\n",
       "    <tr>\n",
       "      <th>0</th>\n",
       "      <td>초코쿠키</td>\n",
       "      <td>22</td>\n",
       "    </tr>\n",
       "    <tr>\n",
       "      <th>1</th>\n",
       "      <td>쿠키</td>\n",
       "      <td>15</td>\n",
       "    </tr>\n",
       "    <tr>\n",
       "      <th>2</th>\n",
       "      <td>버터쿠키</td>\n",
       "      <td>13</td>\n",
       "    </tr>\n",
       "    <tr>\n",
       "      <th>3</th>\n",
       "      <td>르뱅쿠키</td>\n",
       "      <td>11</td>\n",
       "    </tr>\n",
       "    <tr>\n",
       "      <th>4</th>\n",
       "      <td>스모어쿠키</td>\n",
       "      <td>11</td>\n",
       "    </tr>\n",
       "    <tr>\n",
       "      <th>5</th>\n",
       "      <td>오레오쿠키</td>\n",
       "      <td>4</td>\n",
       "    </tr>\n",
       "  </tbody>\n",
       "</table>\n",
       "</div>"
      ],
      "text/plain": [
       "   index  detail-bread\n",
       "0   초코쿠키            22\n",
       "1     쿠키            15\n",
       "2   버터쿠키            13\n",
       "3   르뱅쿠키            11\n",
       "4  스모어쿠키            11\n",
       "5  오레오쿠키             4"
      ]
     },
     "execution_count": 832,
     "metadata": {},
     "output_type": "execute_result"
    }
   ],
   "source": [
    "### 최상위 7개 쿠키, 케이크, 스콘, 휘낭시에, 마들렌, 파운드, 타르트 종류에서 세부 종류 파악\n",
    "\n",
    "#### 쿠키\n",
    "df_cookie = df[df[\"bread\"]=='쿠키']\n",
    "df_cookie_detail = df_cookies[\"detail-bread\"].value_counts().reset_index()\n",
    "print(\"쿠키 게시글 개수: \", len(df_cookies))\n",
    "print(\"세부 쿠키 종류 개수: \", len(df_cookie_detail))\n",
    "df_detail.head(6)\n",
    "\n",
    "#### [해석] 여러 메뉴들이 나오지만 총 개수 137개에서 22개는 16프로 해당한다. "
   ]
  },
  {
   "cell_type": "code",
   "execution_count": 833,
   "metadata": {
    "scrolled": true
   },
   "outputs": [
    {
     "name": "stdout",
     "output_type": "stream",
     "text": [
      "케이크 게시글 개수:  133\n",
      "세부 케이크 종류 개수:  48\n"
     ]
    },
    {
     "data": {
      "text/html": [
       "<div>\n",
       "<style scoped>\n",
       "    .dataframe tbody tr th:only-of-type {\n",
       "        vertical-align: middle;\n",
       "    }\n",
       "\n",
       "    .dataframe tbody tr th {\n",
       "        vertical-align: top;\n",
       "    }\n",
       "\n",
       "    .dataframe thead th {\n",
       "        text-align: right;\n",
       "    }\n",
       "</style>\n",
       "<table border=\"1\" class=\"dataframe\">\n",
       "  <thead>\n",
       "    <tr style=\"text-align: right;\">\n",
       "      <th></th>\n",
       "      <th>index</th>\n",
       "      <th>detail-bread</th>\n",
       "    </tr>\n",
       "  </thead>\n",
       "  <tbody>\n",
       "    <tr>\n",
       "      <th>0</th>\n",
       "      <td>바스크치즈케이크</td>\n",
       "      <td>29</td>\n",
       "    </tr>\n",
       "    <tr>\n",
       "      <th>1</th>\n",
       "      <td>레터링케이크</td>\n",
       "      <td>11</td>\n",
       "    </tr>\n",
       "    <tr>\n",
       "      <th>2</th>\n",
       "      <td>치즈케이크</td>\n",
       "      <td>10</td>\n",
       "    </tr>\n",
       "    <tr>\n",
       "      <th>3</th>\n",
       "      <td>초코케이크</td>\n",
       "      <td>9</td>\n",
       "    </tr>\n",
       "    <tr>\n",
       "      <th>4</th>\n",
       "      <td>레몬케이크</td>\n",
       "      <td>8</td>\n",
       "    </tr>\n",
       "    <tr>\n",
       "      <th>5</th>\n",
       "      <td>케이크</td>\n",
       "      <td>7</td>\n",
       "    </tr>\n",
       "    <tr>\n",
       "      <th>6</th>\n",
       "      <td>블루베리케이크</td>\n",
       "      <td>5</td>\n",
       "    </tr>\n",
       "    <tr>\n",
       "      <th>7</th>\n",
       "      <td>컵케이크</td>\n",
       "      <td>4</td>\n",
       "    </tr>\n",
       "    <tr>\n",
       "      <th>8</th>\n",
       "      <td>당근케이크</td>\n",
       "      <td>3</td>\n",
       "    </tr>\n",
       "    <tr>\n",
       "      <th>9</th>\n",
       "      <td>민트초코케이크</td>\n",
       "      <td>3</td>\n",
       "    </tr>\n",
       "    <tr>\n",
       "      <th>10</th>\n",
       "      <td>샤인머스캣케이크</td>\n",
       "      <td>3</td>\n",
       "    </tr>\n",
       "    <tr>\n",
       "      <th>11</th>\n",
       "      <td>고구마케이크</td>\n",
       "      <td>2</td>\n",
       "    </tr>\n",
       "    <tr>\n",
       "      <th>12</th>\n",
       "      <td>생크림케이크</td>\n",
       "      <td>2</td>\n",
       "    </tr>\n",
       "    <tr>\n",
       "      <th>13</th>\n",
       "      <td>무화과케이크</td>\n",
       "      <td>2</td>\n",
       "    </tr>\n",
       "    <tr>\n",
       "      <th>14</th>\n",
       "      <td>샤인머스켓케이크</td>\n",
       "      <td>2</td>\n",
       "    </tr>\n",
       "  </tbody>\n",
       "</table>\n",
       "</div>"
      ],
      "text/plain": [
       "       index  detail-bread\n",
       "0   바스크치즈케이크            29\n",
       "1     레터링케이크            11\n",
       "2      치즈케이크            10\n",
       "3      초코케이크             9\n",
       "4      레몬케이크             8\n",
       "5        케이크             7\n",
       "6    블루베리케이크             5\n",
       "7       컵케이크             4\n",
       "8      당근케이크             3\n",
       "9    민트초코케이크             3\n",
       "10  샤인머스캣케이크             3\n",
       "11    고구마케이크             2\n",
       "12    생크림케이크             2\n",
       "13    무화과케이크             2\n",
       "14  샤인머스켓케이크             2"
      ]
     },
     "execution_count": 833,
     "metadata": {},
     "output_type": "execute_result"
    }
   ],
   "source": [
    "#### 케이크\n",
    "df_cake = df[df[\"bread\"]=='케이크']\n",
    "df_cake_detail = df_cake[\"detail-bread\"].value_counts().reset_index()\n",
    "print(\"케이크 게시글 개수: \", len(df_cake))\n",
    "print(\"세부 케이크 종류 개수: \", len(df_detail_cake))\n",
    "df_detail_cake.head(15)"
   ]
  },
  {
   "cell_type": "code",
   "execution_count": 834,
   "metadata": {},
   "outputs": [
    {
     "data": {
      "image/png": "[encoded data removed]",
      "text/plain": [
       "<Figure size 400x240 with 1 Axes>"
      ]
     },
     "metadata": {},
     "output_type": "display_data"
    }
   ],
   "source": [
    "##### 케이크 세부 종류 퍼센트 시각화\n",
    "plt.rc('font', family='Malgun Gothic') # 그래프에 한글 표시\n",
    "plt.figure(figsize=(10,6), dpi=40)\n",
    "size = [29, 11, 93] # 데이터\n",
    "label = ['바스크치즈케이크', '레터링케이크','나머지'] \n",
    "colors = ['#404040',  '#A6A6A6', '#FDC345', ]\n",
    "plt.pie(size, labels=label, autopct='%.1f%%', colors=colors)\n",
    "plt.show()\n",
    "\n",
    "#### [해석]바스크치즈케이크가 전체중 22프로를 차지하기때문에 \n",
    "#### detal-bread가 바스크치즈케이크면 bread도 케이크에서 바스크치즈케이크로 바꿔준다."
   ]
  },
  {
   "cell_type": "code",
   "execution_count": 835,
   "metadata": {},
   "outputs": [
    {
     "data": {
      "text/html": [
       "<div>\n",
       "<style scoped>\n",
       "    .dataframe tbody tr th:only-of-type {\n",
       "        vertical-align: middle;\n",
       "    }\n",
       "\n",
       "    .dataframe tbody tr th {\n",
       "        vertical-align: top;\n",
       "    }\n",
       "\n",
       "    .dataframe thead th {\n",
       "        text-align: right;\n",
       "    }\n",
       "</style>\n",
       "<table border=\"1\" class=\"dataframe\">\n",
       "  <thead>\n",
       "    <tr style=\"text-align: right;\">\n",
       "      <th></th>\n",
       "      <th>diff_day</th>\n",
       "      <th>dateValue</th>\n",
       "      <th>timeValue</th>\n",
       "      <th>hourValue</th>\n",
       "      <th>bread</th>\n",
       "      <th>detail-bread</th>\n",
       "      <th>img_len</th>\n",
       "      <th>vid_len</th>\n",
       "      <th>like</th>\n",
       "    </tr>\n",
       "  </thead>\n",
       "  <tbody>\n",
       "    <tr>\n",
       "      <th>51</th>\n",
       "      <td>1</td>\n",
       "      <td>2021-10-05</td>\n",
       "      <td>17:06:22</td>\n",
       "      <td>17</td>\n",
       "      <td>바스크치즈케이크</td>\n",
       "      <td>바스크치즈케이크</td>\n",
       "      <td>6</td>\n",
       "      <td>0</td>\n",
       "      <td>6</td>\n",
       "    </tr>\n",
       "  </tbody>\n",
       "</table>\n",
       "</div>"
      ],
      "text/plain": [
       "    diff_day  dateValue timeValue  hourValue     bread detail-bread  img_len  \\\n",
       "51         1 2021-10-05  17:06:22         17  바스크치즈케이크     바스크치즈케이크        6   \n",
       "\n",
       "    vid_len  like  \n",
       "51        0     6  "
      ]
     },
     "execution_count": 835,
     "metadata": {},
     "output_type": "execute_result"
    }
   ],
   "source": [
    "##### 케이크 ->바스크치즈케이크 변경 [[데이터 전처리]]\n",
    "df = df.reset_index().drop(['index'], axis=1) #index정리\n",
    "for i in range(len(df)):\n",
    "    a = df['detail-bread'][i]\n",
    "    if a == '바스크치즈케이크': #detail-bread가 바스크치즈케이크라면 \n",
    "        df.at[i,'bread'] = '바스크치즈케이크' #bread를 바스크치즈케이크로 바꿔주기\n",
    "df.loc[[51]]#변경된거 확인"
   ]
  },
  {
   "cell_type": "code",
   "execution_count": 836,
   "metadata": {},
   "outputs": [
    {
     "name": "stdout",
     "output_type": "stream",
     "text": [
      "스콘 게시글 개수:  56\n",
      "세부 스콘 종류 개수:  23\n"
     ]
    },
    {
     "data": {
      "text/html": [
       "<div>\n",
       "<style scoped>\n",
       "    .dataframe tbody tr th:only-of-type {\n",
       "        vertical-align: middle;\n",
       "    }\n",
       "\n",
       "    .dataframe tbody tr th {\n",
       "        vertical-align: top;\n",
       "    }\n",
       "\n",
       "    .dataframe thead th {\n",
       "        text-align: right;\n",
       "    }\n",
       "</style>\n",
       "<table border=\"1\" class=\"dataframe\">\n",
       "  <thead>\n",
       "    <tr style=\"text-align: right;\">\n",
       "      <th></th>\n",
       "      <th>index</th>\n",
       "      <th>detail-bread</th>\n",
       "    </tr>\n",
       "  </thead>\n",
       "  <tbody>\n",
       "    <tr>\n",
       "      <th>0</th>\n",
       "      <td>플레인스콘</td>\n",
       "      <td>8</td>\n",
       "    </tr>\n",
       "    <tr>\n",
       "      <th>1</th>\n",
       "      <td>얼그레이스콘</td>\n",
       "      <td>7</td>\n",
       "    </tr>\n",
       "    <tr>\n",
       "      <th>2</th>\n",
       "      <td>스콘</td>\n",
       "      <td>6</td>\n",
       "    </tr>\n",
       "    <tr>\n",
       "      <th>3</th>\n",
       "      <td>초코스콘</td>\n",
       "      <td>5</td>\n",
       "    </tr>\n",
       "    <tr>\n",
       "      <th>4</th>\n",
       "      <td>에그스콘</td>\n",
       "      <td>3</td>\n",
       "    </tr>\n",
       "    <tr>\n",
       "      <th>5</th>\n",
       "      <td>콘스콘</td>\n",
       "      <td>3</td>\n",
       "    </tr>\n",
       "  </tbody>\n",
       "</table>\n",
       "</div>"
      ],
      "text/plain": [
       "    index  detail-bread\n",
       "0   플레인스콘             8\n",
       "1  얼그레이스콘             7\n",
       "2      스콘             6\n",
       "3    초코스콘             5\n",
       "4    에그스콘             3\n",
       "5     콘스콘             3"
      ]
     },
     "execution_count": 836,
     "metadata": {},
     "output_type": "execute_result"
    }
   ],
   "source": [
    "#### 스콘\n",
    "df_scone = df[df[\"bread\"]=='스콘']\n",
    "df_detail_scone = df_scone[\"detail-bread\"].value_counts().reset_index()\n",
    "print(\"스콘 게시글 개수: \", len(df_scone))\n",
    "print(\"세부 스콘 종류 개수: \", len(df_detail_scone))\n",
    "df_detail_scone.head(6)\n",
    "#### [해석] 플레인스콘은 그냥 스콘임으로 두드러지게 많이 있는 세부 스콘은 없다. "
   ]
  },
  {
   "cell_type": "code",
   "execution_count": 837,
   "metadata": {},
   "outputs": [
    {
     "name": "stdout",
     "output_type": "stream",
     "text": [
      "휘낭시에 게시글 개수:  50\n",
      "세부 휘낭시에 종류 개수:  14\n"
     ]
    },
    {
     "data": {
      "text/html": [
       "<div>\n",
       "<style scoped>\n",
       "    .dataframe tbody tr th:only-of-type {\n",
       "        vertical-align: middle;\n",
       "    }\n",
       "\n",
       "    .dataframe tbody tr th {\n",
       "        vertical-align: top;\n",
       "    }\n",
       "\n",
       "    .dataframe thead th {\n",
       "        text-align: right;\n",
       "    }\n",
       "</style>\n",
       "<table border=\"1\" class=\"dataframe\">\n",
       "  <thead>\n",
       "    <tr style=\"text-align: right;\">\n",
       "      <th></th>\n",
       "      <th>index</th>\n",
       "      <th>detail-bread</th>\n",
       "    </tr>\n",
       "  </thead>\n",
       "  <tbody>\n",
       "    <tr>\n",
       "      <th>0</th>\n",
       "      <td>휘낭시에</td>\n",
       "      <td>27</td>\n",
       "    </tr>\n",
       "    <tr>\n",
       "      <th>1</th>\n",
       "      <td>코코넛휘낭시에</td>\n",
       "      <td>3</td>\n",
       "    </tr>\n",
       "    <tr>\n",
       "      <th>2</th>\n",
       "      <td>츄러스휘낭시에</td>\n",
       "      <td>2</td>\n",
       "    </tr>\n",
       "    <tr>\n",
       "      <th>3</th>\n",
       "      <td>크림치즈휘낭시에</td>\n",
       "      <td>2</td>\n",
       "    </tr>\n",
       "    <tr>\n",
       "      <th>4</th>\n",
       "      <td>무화과휘낭시에</td>\n",
       "      <td>2</td>\n",
       "    </tr>\n",
       "    <tr>\n",
       "      <th>5</th>\n",
       "      <td>솔티카라멜휘낭시에</td>\n",
       "      <td>2</td>\n",
       "    </tr>\n",
       "  </tbody>\n",
       "</table>\n",
       "</div>"
      ],
      "text/plain": [
       "       index  detail-bread\n",
       "0       휘낭시에            27\n",
       "1    코코넛휘낭시에             3\n",
       "2    츄러스휘낭시에             2\n",
       "3   크림치즈휘낭시에             2\n",
       "4    무화과휘낭시에             2\n",
       "5  솔티카라멜휘낭시에             2"
      ]
     },
     "execution_count": 837,
     "metadata": {},
     "output_type": "execute_result"
    }
   ],
   "source": [
    "#### 휘낭시에\n",
    "df_financier= df[df[\"bread\"]=='휘낭시에']\n",
    "df_detail_financier = df_financier[\"detail-bread\"].value_counts().reset_index()\n",
    "print(\"휘낭시에 게시글 개수: \", len(df_financier))\n",
    "print(\"세부 휘낭시에 종류 개수: \", len(df_detail_financier))\n",
    "df_detail_financier.head(6)\n",
    "#### [해석] 두드러지게 많이 있는 세부 휘낭시에는 없다. "
   ]
  },
  {
   "cell_type": "code",
   "execution_count": 838,
   "metadata": {},
   "outputs": [
    {
     "name": "stdout",
     "output_type": "stream",
     "text": [
      "마들렌 게시글 개수:  43\n",
      "세부 마들렌 종류 개수:  14\n"
     ]
    },
    {
     "data": {
      "text/html": [
       "<div>\n",
       "<style scoped>\n",
       "    .dataframe tbody tr th:only-of-type {\n",
       "        vertical-align: middle;\n",
       "    }\n",
       "\n",
       "    .dataframe tbody tr th {\n",
       "        vertical-align: top;\n",
       "    }\n",
       "\n",
       "    .dataframe thead th {\n",
       "        text-align: right;\n",
       "    }\n",
       "</style>\n",
       "<table border=\"1\" class=\"dataframe\">\n",
       "  <thead>\n",
       "    <tr style=\"text-align: right;\">\n",
       "      <th></th>\n",
       "      <th>index</th>\n",
       "      <th>detail-bread</th>\n",
       "    </tr>\n",
       "  </thead>\n",
       "  <tbody>\n",
       "    <tr>\n",
       "      <th>0</th>\n",
       "      <td>마들렌</td>\n",
       "      <td>20</td>\n",
       "    </tr>\n",
       "    <tr>\n",
       "      <th>1</th>\n",
       "      <td>레몬마들렌</td>\n",
       "      <td>7</td>\n",
       "    </tr>\n",
       "    <tr>\n",
       "      <th>2</th>\n",
       "      <td>얼그레이마들렌</td>\n",
       "      <td>2</td>\n",
       "    </tr>\n",
       "    <tr>\n",
       "      <th>3</th>\n",
       "      <td>밤마들렌</td>\n",
       "      <td>2</td>\n",
       "    </tr>\n",
       "    <tr>\n",
       "      <th>4</th>\n",
       "      <td>쑥마들렌</td>\n",
       "      <td>1</td>\n",
       "    </tr>\n",
       "    <tr>\n",
       "      <th>5</th>\n",
       "      <td>크림마들렌</td>\n",
       "      <td>1</td>\n",
       "    </tr>\n",
       "  </tbody>\n",
       "</table>\n",
       "</div>"
      ],
      "text/plain": [
       "     index  detail-bread\n",
       "0      마들렌            20\n",
       "1    레몬마들렌             7\n",
       "2  얼그레이마들렌             2\n",
       "3     밤마들렌             2\n",
       "4     쑥마들렌             1\n",
       "5    크림마들렌             1"
      ]
     },
     "execution_count": 838,
     "metadata": {},
     "output_type": "execute_result"
    }
   ],
   "source": [
    "#### 마들렌\n",
    "df_madeleine = df[df[\"bread\"]=='마들렌']\n",
    "df_detail_madeleine = df_ma[\"detail-bread\"].value_counts().reset_index()\n",
    "print(\"마들렌 게시글 개수: \", len(df_madeleine))\n",
    "print(\"세부 마들렌 종류 개수: \", len(df_detail_madeleine))\n",
    "df_detail_ma.head(6)\n",
    "#### [해석] 두드러지게 많이 있는 세부 마들렌은 없다. "
   ]
  },
  {
   "cell_type": "markdown",
   "metadata": {},
   "source": [
    "#### 2-4. 설명변수(x) 와 종속변수(y) 간의 관계 탐색\n",
    "- 변수간의 상관관계 파악해 봅니다. "
   ]
  },
  {
   "cell_type": "code",
   "execution_count": 839,
   "metadata": {},
   "outputs": [
    {
     "data": {
      "text/html": [
       "<div>\n",
       "<style scoped>\n",
       "    .dataframe tbody tr th:only-of-type {\n",
       "        vertical-align: middle;\n",
       "    }\n",
       "\n",
       "    .dataframe tbody tr th {\n",
       "        vertical-align: top;\n",
       "    }\n",
       "\n",
       "    .dataframe thead th {\n",
       "        text-align: right;\n",
       "    }\n",
       "</style>\n",
       "<table border=\"1\" class=\"dataframe\">\n",
       "  <thead>\n",
       "    <tr style=\"text-align: right;\">\n",
       "      <th></th>\n",
       "      <th>diff_day</th>\n",
       "      <th>hourValue</th>\n",
       "      <th>img_len</th>\n",
       "      <th>vid_len</th>\n",
       "      <th>like</th>\n",
       "    </tr>\n",
       "  </thead>\n",
       "  <tbody>\n",
       "    <tr>\n",
       "      <th>diff_day</th>\n",
       "      <td>1.000000</td>\n",
       "      <td>0.041906</td>\n",
       "      <td>-0.096386</td>\n",
       "      <td>-0.043251</td>\n",
       "      <td>-0.012498</td>\n",
       "    </tr>\n",
       "    <tr>\n",
       "      <th>hourValue</th>\n",
       "      <td>0.041906</td>\n",
       "      <td>1.000000</td>\n",
       "      <td>0.016680</td>\n",
       "      <td>0.030062</td>\n",
       "      <td>-0.000304</td>\n",
       "    </tr>\n",
       "    <tr>\n",
       "      <th>img_len</th>\n",
       "      <td>-0.096386</td>\n",
       "      <td>0.016680</td>\n",
       "      <td>1.000000</td>\n",
       "      <td>-0.014611</td>\n",
       "      <td>0.057116</td>\n",
       "    </tr>\n",
       "    <tr>\n",
       "      <th>vid_len</th>\n",
       "      <td>-0.043251</td>\n",
       "      <td>0.030062</td>\n",
       "      <td>-0.014611</td>\n",
       "      <td>1.000000</td>\n",
       "      <td>0.398159</td>\n",
       "    </tr>\n",
       "    <tr>\n",
       "      <th>like</th>\n",
       "      <td>-0.012498</td>\n",
       "      <td>-0.000304</td>\n",
       "      <td>0.057116</td>\n",
       "      <td>0.398159</td>\n",
       "      <td>1.000000</td>\n",
       "    </tr>\n",
       "  </tbody>\n",
       "</table>\n",
       "</div>"
      ],
      "text/plain": [
       "           diff_day  hourValue   img_len   vid_len      like\n",
       "diff_day   1.000000   0.041906 -0.096386 -0.043251 -0.012498\n",
       "hourValue  0.041906   1.000000  0.016680  0.030062 -0.000304\n",
       "img_len   -0.096386   0.016680  1.000000 -0.014611  0.057116\n",
       "vid_len   -0.043251   0.030062 -0.014611  1.000000  0.398159\n",
       "like      -0.012498  -0.000304  0.057116  0.398159  1.000000"
      ]
     },
     "execution_count": 839,
     "metadata": {},
     "output_type": "execute_result"
    }
   ],
   "source": [
    "# 1]Person 상관계수를 통해 상관관계 파악\n",
    "cols = ['diff_day', 'hourValue', 'img_len', 'vid_len', 'like'] #numerical한 feature들\n",
    "corr = df[cols].corr(method = 'pearson')\n",
    "corr"
   ]
  },
  {
   "cell_type": "code",
   "execution_count": 840,
   "metadata": {},
   "outputs": [
    {
     "data": {
      "image/png": "[encoded data removed]",
      "text/plain": [
       "<Figure size 504x360 with 2 Axes>"
      ]
     },
     "metadata": {},
     "output_type": "display_data"
    }
   ],
   "source": [
    "## 상관관계를 heatmap으로 시각화\n",
    "fig = plt.figure(figsize = (7, 5))\n",
    "ax = fig.gca()\n",
    "\n",
    "sns.set(font_scale = 1.0)  # heatmap 안의 font-size 설정 \n",
    "heatmap = sns.heatmap(corr.values, annot = True, fmt='.2f', annot_kws={'size':15},\n",
    "                      yticklabels = cols, xticklabels = cols, ax=ax, cmap = \"YlGnBu\")\n",
    "plt.tight_layout()\n",
    "plt.show()"
   ]
  },
  {
   "cell_type": "code",
   "execution_count": 841,
   "metadata": {},
   "outputs": [],
   "source": [
    "## [해석]\n",
    "## target variable인 \"like\"과 다른 변수간의 상관관계를 살펴보면,\n",
    "## “diff_day - 게시글 올린 날짜와 크롤링한 날짜의 차이”(-0.01) (음의 상관관계)\n",
    "## “vid_len - 게시글에 포함된 비디오 개수”(0.40) (양의 상관관게)"
   ]
  },
  {
   "cell_type": "markdown",
   "metadata": {},
   "source": [
    "##### 2.4.1 like(좋아요)~hourValue(시간대)의 관계"
   ]
  },
  {
   "cell_type": "code",
   "execution_count": 845,
   "metadata": {},
   "outputs": [
    {
     "data": {
      "image/png": "[encoded data removed]",
      "text/plain": [
       "<Figure size 432x288 with 1 Axes>"
      ]
     },
     "metadata": {},
     "output_type": "display_data"
    }
   ],
   "source": [
    "## scatter plot 산점도\n",
    "sns.scatterplot(data=df, x='hourValue', y='like', markers='o', color='blue', alpha=0.6)\n",
    "plt.title('Scatter Plot')\n",
    "plt.show()"
   ]
  },
  {
   "cell_type": "markdown",
   "metadata": {},
   "source": [
    "##### 2.4.2 like(좋아요)~diff_day(날짜차)의 관계"
   ]
  },
  {
   "cell_type": "code",
   "execution_count": 844,
   "metadata": {},
   "outputs": [
    {
     "data": {
      "image/png": "[encoded data removed]",
      "text/plain": [
       "<Figure size 432x288 with 1 Axes>"
      ]
     },
     "metadata": {},
     "output_type": "display_data"
    }
   ],
   "source": [
    "## scatter plot 산점도\n",
    "sns.scatterplot(data=df, x='diff_day', y='like', markers='o', color='blue', alpha=0.6)\n",
    "plt.title('Scatter Plot')\n",
    "plt.show()"
   ]
  },
  {
   "cell_type": "code",
   "execution_count": 843,
   "metadata": {},
   "outputs": [],
   "source": [
    "## 해설) \n",
    "## 좋아요 수는 날짜차와의 음의 상관관계를 갖고 있습니다. \n",
    "## 즉, 방 갯수가 많은 주택들이 상대적으로 더 높은 가격을 갖고 있습니다.\n",
    "## 게시글 업로드 짧을 수록 더 좋아요를 많이 받는다고 되어있지만 \n",
    "## 날짜간 게시글 갯수 편차가 심하여 다시 10월달 이내 게시글만 가지고 상관관계를 분석하였습니다(엑셀상에서)\n",
    "## 업로드 후 2일까지는 좋아요가 비례하게 올라가지만 그 이후로는 상관관계가 없습니다. "
   ]
  },
  {
   "cell_type": "markdown",
   "metadata": {},
   "source": [
    "##### 2.4.3 like(좋아요)~vid_len의 관계"
   ]
  },
  {
   "cell_type": "code",
   "execution_count": 846,
   "metadata": {},
   "outputs": [
    {
     "data": {
      "image/png": "[encoded data removed]",
      "text/plain": [
       "<Figure size 432x288 with 1 Axes>"
      ]
     },
     "metadata": {},
     "output_type": "display_data"
    }
   ],
   "source": [
    "## scatter plot\n",
    "sns.scatterplot(data=df, x='vid_len', y='like', markers='o', color='blue', alpha=0.6)\n",
    "plt.title('Scatter Plot')\n",
    "plt.show()"
   ]
  },
  {
   "cell_type": "code",
   "execution_count": 773,
   "metadata": {},
   "outputs": [],
   "source": [
    "## 해설)\n",
    "## 좋아요와 비디오개수가 양의 상관관계를 갖고 있습니다. \n",
    "## 즉, 비디오개수가 많을 수록 좋아요를 더 많이 받는것을 알 수 있습니다. "
   ]
  },
  {
   "cell_type": "markdown",
   "metadata": {},
   "source": [
    "##### 2.4.3 빵별 차이 탐색 "
   ]
  },
  {
   "cell_type": "code",
   "execution_count": 774,
   "metadata": {},
   "outputs": [
    {
     "data": {
      "text/plain": [
       "쿠키       138\n",
       "케이크      104\n",
       "스콘        56\n",
       "휘낭시에      50\n",
       "마들렌       43\n",
       "        ... \n",
       "아몬드트윌      1\n",
       "맘모스빵       1\n",
       "시나몬빵       1\n",
       "앙금빵        1\n",
       "떡          1\n",
       "Name: bread, Length: 85, dtype: int64"
      ]
     },
     "execution_count": 774,
     "metadata": {},
     "output_type": "execute_result"
    }
   ],
   "source": [
    "## 각 빵 데이터 갯수 살펴보기 \n",
    "df['bread'].value_counts()\n",
    "## 해설) 85 종류의 빵이 있습니다. "
   ]
  },
  {
   "cell_type": "code",
   "execution_count": 775,
   "metadata": {},
   "outputs": [
    {
     "data": {
      "text/plain": [
       "<AxesSubplot:>"
      ]
     },
     "execution_count": 775,
     "metadata": {},
     "output_type": "execute_result"
    },
    {
     "data": {
      "image/png": "[encoded data removed]",
      "text/plain": [
       "<Figure size 432x288 with 1 Axes>"
      ]
     },
     "metadata": {},
     "output_type": "display_data"
    }
   ],
   "source": [
    "### 각 빵  데이터 갯수 살펴보기 (bar plot)을 활용해서 시각화를 합니다.\n",
    "df['bread'].value_counts().hist(bins=50)\n",
    "### [헤석] 10개 이하에 빵종류가 나머지는 60개 이하로 나타난다"
   ]
  },
  {
   "cell_type": "code",
   "execution_count": 776,
   "metadata": {},
   "outputs": [],
   "source": [
    "plt.rcParams['font.family'] = 'NanumGothic' #한글 표시를 위함"
   ]
  },
  {
   "cell_type": "code",
   "execution_count": 777,
   "metadata": {
    "scrolled": true
   },
   "outputs": [
    {
     "data": {
      "text/plain": [
       "<AxesSubplot:xlabel='like', ylabel='bread'>"
      ]
     },
     "execution_count": 777,
     "metadata": {},
     "output_type": "execute_result"
    },
    {
     "data": {
      "image/png": "[encoded data removed]",
      "text/plain": [
       "<Figure size 864x1440 with 1 Axes>"
      ]
     },
     "metadata": {},
     "output_type": "display_data"
    }
   ],
   "source": [
    "### 빵별 좋아요 특징 (boxplot 이용)\n",
    "fig = plt.figure(figsize = (12, 20))\n",
    "sns.boxplot(x='like', y='bread', data=df)"
   ]
  },
  {
   "cell_type": "code",
   "execution_count": 778,
   "metadata": {},
   "outputs": [],
   "source": [
    "### 해석) bread컬럼에 빵을 태깅하면서 봤던 내용을 가지고 해석을 해보자면, \n",
    "### 사람들이 많이 올리는 쿠키, 케이크등은 베이킹 계정이 아니라 일반 사람들도 만들어서 올리는 경우가 많았습니다. \n",
    "### 그래서 올린 게시글 수는 많지만 그에 비해 좋아요는 두드러지게 많지는 않습니다.\n",
    "### 이에 반해 브륄레, 테린느, 프레즐같이 일반인들이 만들기 쉽지 않은 메뉴의 경우에는 이미 좋아요를 항상 많이 받는 베이킹 계정에서 올리는 \n",
    "### 경향이 많았습니다. 그래서 이러한 boxplot의 모양이 나오지 않았나 생각합니다."
   ]
  },
  {
   "cell_type": "markdown",
   "metadata": {},
   "source": [
    "### 3. 좋아요 개수 예측 모델링: 회귀분석\n",
    "- 이제 변수들을 활용하여 베이킹 게시글에 좋아요 개수를 예측하는 회귀 모델을 만들어 보겠습니다."
   ]
  },
  {
   "cell_type": "markdown",
   "metadata": {},
   "source": [
    "#### 3-1 데이터 전처리\n",
    "- 문자열인 bread를 학습 시키기 위해서 encoding해 전처리 해준다\n",
    "- encoding 방법은 2가지가 있다. 레이블인코딩, 원핫인코딩\n",
    "- 레이블 인코딩은 문자형을 숫자형으로 바꿔주는 인코딩 방법이다. \n",
    "- 원핫 인코딩은 문자열을 컬럼으로 넣어서 해당 열이 그 값인지, 아닌지 이진으로 나타나는 방법이다. \n",
    "- 원핫인코딩을 사용했을시, 85개의 bread종류를 컬럼으로 변경해서 feature값이 너무 많아지는 단점이 있다 \n",
    "- 레이블 인코딩을 사용했을시, 숫자 크기때문에 선형 회귀 분석에는 맞지않는 담점이 있다. \n",
    "\n",
    "\n",
    "1. 전처리 - [1] 인코딩\n",
    "1. 전처리 - [2] train/test셋으로 나누기\n",
    "1. 전처리 - [3] 다중공산성 확인"
   ]
  },
  {
   "cell_type": "markdown",
   "metadata": {},
   "source": [
    "##### 3.1.1 인코딩"
   ]
  },
  {
   "cell_type": "code",
   "execution_count": 779,
   "metadata": {},
   "outputs": [],
   "source": [
    "# 1. 전처리 - [1] 인코딩\n",
    "# 두가지 인코딩을 다 해봐서 결과값 확인해보기\n",
    "from sklearn.preprocessing import OneHotEncoder, LabelEncoder\n",
    "\n",
    "df = df.dropna(subset=['bread', 'like']) #결측치 제거\n",
    "df = df.reset_index() #인덱스 정렬\n",
    "df_label_enc = df.copy() #레이블인코딩한 데이터프레임을 담기위함\n",
    "df_oneHot_enc = df.copy() #원핫인코딩한 데이터프레임을 담기위함 \n",
    "\n",
    "\n",
    "# 레이블인코딩\n",
    "df1 = pd.DataFrame({'bread': df_label_enc['bread']}) #데이터프레임 생성\n",
    "df1 = df1.apply(LabelEncoder().fit_transform) #레이블인코딩\n",
    "df_label_enc = df_label_enc.drop('bread', axis=1) #원래있던 컬럼 삭제\n",
    "df_label_enc['bread'] = df1['bread'] #인코딩한 컬럼을 원래 컬럼에 붙이기\n",
    "\n",
    "#레이블인코딩한 데이터프레임 학습데이터셋으로 정리\n",
    "df_label_enc = df_label_enc.drop(['index', 'dateValue', 'timeValue', 'detail-bread'], axis=1)\n",
    "df_label_enc = df_label_enc[['diff_day', 'hourValue', 'img_len', 'vid_len', 'bread', 'like']]\n",
    "df_label_enc = df_label_enc.astype({'like': int})\n",
    "\n",
    "\n",
    "# 원핫인코딩\n",
    "df2 = pd.DataFrame({'bread': df_oneHot_enc['bread']}) #데이터프레임 생성\n",
    "df2 = pd.get_dummies(df2) #원핫인코딩\n",
    "df2 = df2.reset_index() #인덱스 정렬\n",
    "df_oneHot_enc = df_oneHot_enc.drop('bread', axis=1) #원래있던 컬럼 삭제\n",
    "df_oneHot_enc = pd.concat([df_oneHot_enc, df2], axis=1, sort=False) #인코딩한 데이터프레임 원래 프레임과 합치기\n",
    "\n",
    "#원핫인코딩한 데이터프레임 학습데이터셋으로 정리\n",
    "df_oneHot_enc = df_oneHot_enc.drop(['index', 'dateValue', 'timeValue', 'detail-bread'], axis=1)\n",
    "df_oneHot_enc = df_oneHot_enc.astype({'like': int})"
   ]
  },
  {
   "cell_type": "code",
   "execution_count": 780,
   "metadata": {},
   "outputs": [
    {
     "data": {
      "text/html": [
       "<div>\n",
       "<style scoped>\n",
       "    .dataframe tbody tr th:only-of-type {\n",
       "        vertical-align: middle;\n",
       "    }\n",
       "\n",
       "    .dataframe tbody tr th {\n",
       "        vertical-align: top;\n",
       "    }\n",
       "\n",
       "    .dataframe thead th {\n",
       "        text-align: right;\n",
       "    }\n",
       "</style>\n",
       "<table border=\"1\" class=\"dataframe\">\n",
       "  <thead>\n",
       "    <tr style=\"text-align: right;\">\n",
       "      <th></th>\n",
       "      <th>diff_day</th>\n",
       "      <th>hourValue</th>\n",
       "      <th>img_len</th>\n",
       "      <th>vid_len</th>\n",
       "      <th>bread</th>\n",
       "      <th>like</th>\n",
       "    </tr>\n",
       "  </thead>\n",
       "  <tbody>\n",
       "    <tr>\n",
       "      <th>0</th>\n",
       "      <td>40</td>\n",
       "      <td>16</td>\n",
       "      <td>1</td>\n",
       "      <td>0</td>\n",
       "      <td>62</td>\n",
       "      <td>136</td>\n",
       "    </tr>\n",
       "    <tr>\n",
       "      <th>1</th>\n",
       "      <td>18</td>\n",
       "      <td>12</td>\n",
       "      <td>3</td>\n",
       "      <td>1</td>\n",
       "      <td>21</td>\n",
       "      <td>5068</td>\n",
       "    </tr>\n",
       "    <tr>\n",
       "      <th>2</th>\n",
       "      <td>47</td>\n",
       "      <td>15</td>\n",
       "      <td>2</td>\n",
       "      <td>1</td>\n",
       "      <td>40</td>\n",
       "      <td>4044</td>\n",
       "    </tr>\n",
       "    <tr>\n",
       "      <th>3</th>\n",
       "      <td>9</td>\n",
       "      <td>9</td>\n",
       "      <td>4</td>\n",
       "      <td>0</td>\n",
       "      <td>62</td>\n",
       "      <td>442</td>\n",
       "    </tr>\n",
       "    <tr>\n",
       "      <th>4</th>\n",
       "      <td>44</td>\n",
       "      <td>10</td>\n",
       "      <td>4</td>\n",
       "      <td>0</td>\n",
       "      <td>33</td>\n",
       "      <td>310</td>\n",
       "    </tr>\n",
       "  </tbody>\n",
       "</table>\n",
       "</div>"
      ],
      "text/plain": [
       "   diff_day  hourValue  img_len  vid_len  bread  like\n",
       "0        40         16        1        0     62   136\n",
       "1        18         12        3        1     21  5068\n",
       "2        47         15        2        1     40  4044\n",
       "3         9          9        4        0     62   442\n",
       "4        44         10        4        0     33   310"
      ]
     },
     "execution_count": 780,
     "metadata": {},
     "output_type": "execute_result"
    }
   ],
   "source": [
    "df_label_enc.head()\n",
    "# [해석] bread컬럼이 숫자형으로 바뀜을 볼 수 있다. "
   ]
  },
  {
   "cell_type": "code",
   "execution_count": 781,
   "metadata": {},
   "outputs": [
    {
     "data": {
      "text/html": [
       "<div>\n",
       "<style scoped>\n",
       "    .dataframe tbody tr th:only-of-type {\n",
       "        vertical-align: middle;\n",
       "    }\n",
       "\n",
       "    .dataframe tbody tr th {\n",
       "        vertical-align: top;\n",
       "    }\n",
       "\n",
       "    .dataframe thead th {\n",
       "        text-align: right;\n",
       "    }\n",
       "</style>\n",
       "<table border=\"1\" class=\"dataframe\">\n",
       "  <thead>\n",
       "    <tr style=\"text-align: right;\">\n",
       "      <th></th>\n",
       "      <th>diff_day</th>\n",
       "      <th>hourValue</th>\n",
       "      <th>img_len</th>\n",
       "      <th>vid_len</th>\n",
       "      <th>like</th>\n",
       "      <th>bread_갈레트</th>\n",
       "      <th>bread_감자빵</th>\n",
       "      <th>bread_갸또쇼콜라</th>\n",
       "      <th>bread_과자</th>\n",
       "      <th>bread_구겔호프</th>\n",
       "      <th>...</th>\n",
       "      <th>bread_파이</th>\n",
       "      <th>bread_팥빵</th>\n",
       "      <th>bread_팬케이크</th>\n",
       "      <th>bread_페스츄리</th>\n",
       "      <th>bread_포카치아</th>\n",
       "      <th>bread_푸딩</th>\n",
       "      <th>bread_프레즐</th>\n",
       "      <th>bread_피자빵</th>\n",
       "      <th>bread_핫케이크</th>\n",
       "      <th>bread_휘낭시에</th>\n",
       "    </tr>\n",
       "  </thead>\n",
       "  <tbody>\n",
       "    <tr>\n",
       "      <th>0</th>\n",
       "      <td>40</td>\n",
       "      <td>16</td>\n",
       "      <td>1</td>\n",
       "      <td>0</td>\n",
       "      <td>136</td>\n",
       "      <td>0</td>\n",
       "      <td>0</td>\n",
       "      <td>0</td>\n",
       "      <td>0</td>\n",
       "      <td>0</td>\n",
       "      <td>...</td>\n",
       "      <td>0</td>\n",
       "      <td>0</td>\n",
       "      <td>0</td>\n",
       "      <td>0</td>\n",
       "      <td>0</td>\n",
       "      <td>0</td>\n",
       "      <td>0</td>\n",
       "      <td>0</td>\n",
       "      <td>0</td>\n",
       "      <td>0</td>\n",
       "    </tr>\n",
       "    <tr>\n",
       "      <th>1</th>\n",
       "      <td>18</td>\n",
       "      <td>12</td>\n",
       "      <td>3</td>\n",
       "      <td>1</td>\n",
       "      <td>5068</td>\n",
       "      <td>0</td>\n",
       "      <td>0</td>\n",
       "      <td>0</td>\n",
       "      <td>0</td>\n",
       "      <td>0</td>\n",
       "      <td>...</td>\n",
       "      <td>0</td>\n",
       "      <td>0</td>\n",
       "      <td>0</td>\n",
       "      <td>0</td>\n",
       "      <td>0</td>\n",
       "      <td>0</td>\n",
       "      <td>0</td>\n",
       "      <td>0</td>\n",
       "      <td>0</td>\n",
       "      <td>0</td>\n",
       "    </tr>\n",
       "    <tr>\n",
       "      <th>2</th>\n",
       "      <td>47</td>\n",
       "      <td>15</td>\n",
       "      <td>2</td>\n",
       "      <td>1</td>\n",
       "      <td>4044</td>\n",
       "      <td>0</td>\n",
       "      <td>0</td>\n",
       "      <td>0</td>\n",
       "      <td>0</td>\n",
       "      <td>0</td>\n",
       "      <td>...</td>\n",
       "      <td>0</td>\n",
       "      <td>0</td>\n",
       "      <td>0</td>\n",
       "      <td>0</td>\n",
       "      <td>0</td>\n",
       "      <td>0</td>\n",
       "      <td>0</td>\n",
       "      <td>0</td>\n",
       "      <td>0</td>\n",
       "      <td>0</td>\n",
       "    </tr>\n",
       "    <tr>\n",
       "      <th>3</th>\n",
       "      <td>9</td>\n",
       "      <td>9</td>\n",
       "      <td>4</td>\n",
       "      <td>0</td>\n",
       "      <td>442</td>\n",
       "      <td>0</td>\n",
       "      <td>0</td>\n",
       "      <td>0</td>\n",
       "      <td>0</td>\n",
       "      <td>0</td>\n",
       "      <td>...</td>\n",
       "      <td>0</td>\n",
       "      <td>0</td>\n",
       "      <td>0</td>\n",
       "      <td>0</td>\n",
       "      <td>0</td>\n",
       "      <td>0</td>\n",
       "      <td>0</td>\n",
       "      <td>0</td>\n",
       "      <td>0</td>\n",
       "      <td>0</td>\n",
       "    </tr>\n",
       "    <tr>\n",
       "      <th>4</th>\n",
       "      <td>44</td>\n",
       "      <td>10</td>\n",
       "      <td>4</td>\n",
       "      <td>0</td>\n",
       "      <td>310</td>\n",
       "      <td>0</td>\n",
       "      <td>0</td>\n",
       "      <td>0</td>\n",
       "      <td>0</td>\n",
       "      <td>0</td>\n",
       "      <td>...</td>\n",
       "      <td>0</td>\n",
       "      <td>0</td>\n",
       "      <td>0</td>\n",
       "      <td>0</td>\n",
       "      <td>0</td>\n",
       "      <td>0</td>\n",
       "      <td>0</td>\n",
       "      <td>0</td>\n",
       "      <td>0</td>\n",
       "      <td>0</td>\n",
       "    </tr>\n",
       "  </tbody>\n",
       "</table>\n",
       "<p>5 rows × 90 columns</p>\n",
       "</div>"
      ],
      "text/plain": [
       "   diff_day  hourValue  img_len  vid_len  like  bread_갈레트  bread_감자빵  \\\n",
       "0        40         16        1        0   136          0          0   \n",
       "1        18         12        3        1  5068          0          0   \n",
       "2        47         15        2        1  4044          0          0   \n",
       "3         9          9        4        0   442          0          0   \n",
       "4        44         10        4        0   310          0          0   \n",
       "\n",
       "   bread_갸또쇼콜라  bread_과자  bread_구겔호프  ...  bread_파이  bread_팥빵  bread_팬케이크  \\\n",
       "0            0         0           0  ...         0         0           0   \n",
       "1            0         0           0  ...         0         0           0   \n",
       "2            0         0           0  ...         0         0           0   \n",
       "3            0         0           0  ...         0         0           0   \n",
       "4            0         0           0  ...         0         0           0   \n",
       "\n",
       "   bread_페스츄리  bread_포카치아  bread_푸딩  bread_프레즐  bread_피자빵  bread_핫케이크  \\\n",
       "0           0           0         0          0          0           0   \n",
       "1           0           0         0          0          0           0   \n",
       "2           0           0         0          0          0           0   \n",
       "3           0           0         0          0          0           0   \n",
       "4           0           0         0          0          0           0   \n",
       "\n",
       "   bread_휘낭시에  \n",
       "0           0  \n",
       "1           0  \n",
       "2           0  \n",
       "3           0  \n",
       "4           0  \n",
       "\n",
       "[5 rows x 90 columns]"
      ]
     },
     "execution_count": 781,
     "metadata": {},
     "output_type": "execute_result"
    }
   ],
   "source": [
    "df_oneHot_enc.head()\n",
    "# [해석] bread종류대로 컬럼이 늘어남을 볼 수 있다. "
   ]
  },
  {
   "cell_type": "markdown",
   "metadata": {},
   "source": [
    "##### 3.1.2 training/test set 나누기"
   ]
  },
  {
   "cell_type": "code",
   "execution_count": 782,
   "metadata": {},
   "outputs": [],
   "source": [
    "# 1. 전처리 - [2] train/test셋으로 나누기\n",
    "from sklearn.model_selection import train_test_split\n",
    "\n",
    "# 레이블인코딩\n",
    "df_label_enc_for_x = df_label_enc.drop('like', axis=1)\n",
    "X = df_label_enc_for_x\n",
    "y = df_label_enc['like']\n",
    "\n",
    "# 원핫인코딩\n",
    "# df_oneHot_enc_for_x = df_oneHot_enc.drop('like', axis=1)\n",
    "# X = df_oneHot_enc_for_x\n",
    "# y = df_oneHot_enc['like']\n",
    "\n",
    "X_train, X_test, y_train, y_test = train_test_split(X, y, test_size=0.2, random_state=1)"
   ]
  },
  {
   "cell_type": "code",
   "execution_count": 783,
   "metadata": {},
   "outputs": [
    {
     "data": {
      "text/plain": [
       "((687, 5), (687,))"
      ]
     },
     "execution_count": 783,
     "metadata": {},
     "output_type": "execute_result"
    }
   ],
   "source": [
    "X_train.shape, y_train.shape"
   ]
  },
  {
   "cell_type": "code",
   "execution_count": 784,
   "metadata": {},
   "outputs": [
    {
     "data": {
      "text/plain": [
       "((172, 5), (172,))"
      ]
     },
     "execution_count": 784,
     "metadata": {},
     "output_type": "execute_result"
    }
   ],
   "source": [
    "X_test.shape, y_test.shape"
   ]
  },
  {
   "cell_type": "code",
   "execution_count": 785,
   "metadata": {},
   "outputs": [
    {
     "data": {
      "text/plain": [
       "318      23\n",
       "207      16\n",
       "61       35\n",
       "457    3835\n",
       "670      88\n",
       "       ... \n",
       "715      37\n",
       "767     151\n",
       "72       16\n",
       "235      12\n",
       "37       66\n",
       "Name: like, Length: 687, dtype: int32"
      ]
     },
     "execution_count": 785,
     "metadata": {},
     "output_type": "execute_result"
    }
   ],
   "source": [
    "y_train\n",
    "### like 값을 의미합니다."
   ]
  },
  {
   "cell_type": "code",
   "execution_count": 786,
   "metadata": {},
   "outputs": [
    {
     "data": {
      "text/html": [
       "<div>\n",
       "<style scoped>\n",
       "    .dataframe tbody tr th:only-of-type {\n",
       "        vertical-align: middle;\n",
       "    }\n",
       "\n",
       "    .dataframe tbody tr th {\n",
       "        vertical-align: top;\n",
       "    }\n",
       "\n",
       "    .dataframe thead th {\n",
       "        text-align: right;\n",
       "    }\n",
       "</style>\n",
       "<table border=\"1\" class=\"dataframe\">\n",
       "  <thead>\n",
       "    <tr style=\"text-align: right;\">\n",
       "      <th></th>\n",
       "      <th>diff_day</th>\n",
       "      <th>hourValue</th>\n",
       "      <th>img_len</th>\n",
       "      <th>vid_len</th>\n",
       "      <th>bread</th>\n",
       "    </tr>\n",
       "  </thead>\n",
       "  <tbody>\n",
       "    <tr>\n",
       "      <th>318</th>\n",
       "      <td>80</td>\n",
       "      <td>18</td>\n",
       "      <td>2</td>\n",
       "      <td>0</td>\n",
       "      <td>20</td>\n",
       "    </tr>\n",
       "    <tr>\n",
       "      <th>207</th>\n",
       "      <td>3</td>\n",
       "      <td>16</td>\n",
       "      <td>2</td>\n",
       "      <td>0</td>\n",
       "      <td>22</td>\n",
       "    </tr>\n",
       "    <tr>\n",
       "      <th>61</th>\n",
       "      <td>1</td>\n",
       "      <td>12</td>\n",
       "      <td>2</td>\n",
       "      <td>0</td>\n",
       "      <td>62</td>\n",
       "    </tr>\n",
       "    <tr>\n",
       "      <th>457</th>\n",
       "      <td>6</td>\n",
       "      <td>16</td>\n",
       "      <td>0</td>\n",
       "      <td>1</td>\n",
       "      <td>60</td>\n",
       "    </tr>\n",
       "    <tr>\n",
       "      <th>670</th>\n",
       "      <td>9</td>\n",
       "      <td>21</td>\n",
       "      <td>1</td>\n",
       "      <td>0</td>\n",
       "      <td>18</td>\n",
       "    </tr>\n",
       "    <tr>\n",
       "      <th>...</th>\n",
       "      <td>...</td>\n",
       "      <td>...</td>\n",
       "      <td>...</td>\n",
       "      <td>...</td>\n",
       "      <td>...</td>\n",
       "    </tr>\n",
       "    <tr>\n",
       "      <th>715</th>\n",
       "      <td>9</td>\n",
       "      <td>13</td>\n",
       "      <td>1</td>\n",
       "      <td>0</td>\n",
       "      <td>84</td>\n",
       "    </tr>\n",
       "    <tr>\n",
       "      <th>767</th>\n",
       "      <td>10</td>\n",
       "      <td>18</td>\n",
       "      <td>1</td>\n",
       "      <td>0</td>\n",
       "      <td>60</td>\n",
       "    </tr>\n",
       "    <tr>\n",
       "      <th>72</th>\n",
       "      <td>1</td>\n",
       "      <td>10</td>\n",
       "      <td>1</td>\n",
       "      <td>0</td>\n",
       "      <td>60</td>\n",
       "    </tr>\n",
       "    <tr>\n",
       "      <th>235</th>\n",
       "      <td>3</td>\n",
       "      <td>9</td>\n",
       "      <td>1</td>\n",
       "      <td>0</td>\n",
       "      <td>40</td>\n",
       "    </tr>\n",
       "    <tr>\n",
       "      <th>37</th>\n",
       "      <td>1</td>\n",
       "      <td>18</td>\n",
       "      <td>1</td>\n",
       "      <td>1</td>\n",
       "      <td>60</td>\n",
       "    </tr>\n",
       "  </tbody>\n",
       "</table>\n",
       "<p>687 rows × 5 columns</p>\n",
       "</div>"
      ],
      "text/plain": [
       "     diff_day  hourValue  img_len  vid_len  bread\n",
       "318        80         18        2        0     20\n",
       "207         3         16        2        0     22\n",
       "61          1         12        2        0     62\n",
       "457         6         16        0        1     60\n",
       "670         9         21        1        0     18\n",
       "..        ...        ...      ...      ...    ...\n",
       "715         9         13        1        0     84\n",
       "767        10         18        1        0     60\n",
       "72          1         10        1        0     60\n",
       "235         3          9        1        0     40\n",
       "37          1         18        1        1     60\n",
       "\n",
       "[687 rows x 5 columns]"
      ]
     },
     "execution_count": 786,
     "metadata": {},
     "output_type": "execute_result"
    }
   ],
   "source": [
    "X_train"
   ]
  },
  {
   "cell_type": "markdown",
   "metadata": {},
   "source": [
    "##### 3.1.3 다중공산성\n",
    "\n",
    "    - 회귀 분석에서 하나의 feature(예측 변수)가 다른 feature와의 상관 관계가 높으면 (즉, 다중공선성이 존재하면), 회귀 분석 시 부정적인 영향을 미칠 수 있기 때문에, 모델링 하기 전에 먼저 다중공선성의 존재 여부를 확인해야합니다.\n",
    "    - 보통 다중공선성을 판단할 때 VIF값을 확인합니다. 일반적으로, VIF > 10인 feature들은 다른 변수와의 상관관계가 높아, 다중공선성이 존재하는 것으로 판단합니다. 즉, VIF > 10인 feature들은 설명변수에서 제거하는 것이 좋을 수도 있습니다."
   ]
  },
  {
   "cell_type": "code",
   "execution_count": 787,
   "metadata": {},
   "outputs": [],
   "source": [
    "# 1. 전처리 - [3] 다중공산성 확인\n",
    "from statsmodels.stats.outliers_influence import variance_inflation_factor\n",
    "\n",
    "vif = pd.DataFrame()\n",
    "vif['features'] = X_train.columns\n",
    "vif[\"VIF Factor\"] = [variance_inflation_factor(X_train.values, i) for i in range(X_train.shape[1])]\n",
    "v_value = vif.round(1) \n",
    "\n",
    "# 10이 넘는 VIF값이 있는지 확인\n",
    "for i in range(len(v_value)):\n",
    "  # print( v_value.loc[i])\n",
    "  if v_value['VIF Factor'][i] >= 10:\n",
    "    print(\"10이상:\", v_value.loc[i])"
   ]
  },
  {
   "cell_type": "code",
   "execution_count": 788,
   "metadata": {},
   "outputs": [],
   "source": [
    "# [해설] VIF값을 확인해보면, 모든 변수의 VIF값이 다 10 이하입니다. 따라서 다중공선성 문제가 존재하지 않아 모든 feature을 활용하여 회귀 모델링을 진행하면 됩니다."
   ]
  },
  {
   "cell_type": "markdown",
   "metadata": {},
   "source": [
    "### 3-2 회귀모델링\n",
    "- 먼저 Training set에서 선형 회귀 예측 모델을 학습합니다.\n",
    "- 그 다음 도출된 모델을 Test set에 적용해 좋아요 개수 (“like”)을 예측합니다. \n",
    "- 이 결과는 실제 “like” 값과 비교하여 모델의 예측 성능을 평가하는 데 활용하게 됩니다.\n"
   ]
  },
  {
   "cell_type": "code",
   "execution_count": 789,
   "metadata": {},
   "outputs": [],
   "source": [
    "from sklearn import linear_model #선형회귀분석 모델 라이브러리 import\n",
    "\n",
    "# fit regression model in training set\n",
    "lr = linear_model.LinearRegression()\n",
    "model = lr.fit(X_train, y_train) #모델링\n",
    "\n",
    "# predict in test set\n",
    "pred_test = lr.predict(X_test) #예측 모델"
   ]
  },
  {
   "cell_type": "markdown",
   "metadata": {},
   "source": [
    "### 3-3 모델해석하기\n",
    "- 각 feature, 설명변수, x, 컬럼에 대한 회귀계수를 확인해 보겠습니다. "
   ]
  },
  {
   "cell_type": "code",
   "execution_count": 790,
   "metadata": {},
   "outputs": [
    {
     "name": "stdout",
     "output_type": "stream",
     "text": [
      "[ 2.91746846e-01 -4.22723388e+00  2.09041057e+01  6.95288361e+02\n",
      " -1.87542468e-01]\n"
     ]
    }
   ],
   "source": [
    "# 1] 계수로 모델 해석하기\n",
    "## 계수 보여주기\n",
    "print(lr.coef_)"
   ]
  },
  {
   "cell_type": "code",
   "execution_count": 793,
   "metadata": {},
   "outputs": [
    {
     "data": {
      "text/html": [
       "<div>\n",
       "<style scoped>\n",
       "    .dataframe tbody tr th:only-of-type {\n",
       "        vertical-align: middle;\n",
       "    }\n",
       "\n",
       "    .dataframe tbody tr th {\n",
       "        vertical-align: top;\n",
       "    }\n",
       "\n",
       "    .dataframe thead th {\n",
       "        text-align: right;\n",
       "    }\n",
       "</style>\n",
       "<table border=\"1\" class=\"dataframe\">\n",
       "  <thead>\n",
       "    <tr style=\"text-align: right;\">\n",
       "      <th></th>\n",
       "      <th>feature</th>\n",
       "      <th>coefficients</th>\n",
       "    </tr>\n",
       "  </thead>\n",
       "  <tbody>\n",
       "    <tr>\n",
       "      <th>0</th>\n",
       "      <td>diff_day</td>\n",
       "      <td>0.291747</td>\n",
       "    </tr>\n",
       "    <tr>\n",
       "      <th>1</th>\n",
       "      <td>hourValue</td>\n",
       "      <td>-4.227234</td>\n",
       "    </tr>\n",
       "    <tr>\n",
       "      <th>2</th>\n",
       "      <td>img_len</td>\n",
       "      <td>20.904106</td>\n",
       "    </tr>\n",
       "    <tr>\n",
       "      <th>3</th>\n",
       "      <td>vid_len</td>\n",
       "      <td>695.288361</td>\n",
       "    </tr>\n",
       "    <tr>\n",
       "      <th>4</th>\n",
       "      <td>bread</td>\n",
       "      <td>-0.187542</td>\n",
       "    </tr>\n",
       "  </tbody>\n",
       "</table>\n",
       "</div>"
      ],
      "text/plain": [
       "     feature  coefficients\n",
       "0   diff_day      0.291747\n",
       "1  hourValue     -4.227234\n",
       "2    img_len     20.904106\n",
       "3    vid_len    695.288361\n",
       "4      bread     -0.187542"
      ]
     },
     "execution_count": 793,
     "metadata": {},
     "output_type": "execute_result"
    }
   ],
   "source": [
    "## 계수 데이터프레임으로 만들어서 feature랑 같이 보여주기\n",
    "coefs = pd.DataFrame(zip(df_label_enc_for_x.columns, lr.coef_), columns = ['feature', 'coefficients']) #레이블 인코딩\n",
    "# coefs = pd.DataFrame(zip(df_oneHot_enc_for_x.columns, lr.coef_), columns = ['feature', 'coefficients']) #원핫 인코딩\n",
    "coefs"
   ]
  },
  {
   "cell_type": "code",
   "execution_count": 794,
   "metadata": {},
   "outputs": [
    {
     "data": {
      "text/html": [
       "<div>\n",
       "<style scoped>\n",
       "    .dataframe tbody tr th:only-of-type {\n",
       "        vertical-align: middle;\n",
       "    }\n",
       "\n",
       "    .dataframe tbody tr th {\n",
       "        vertical-align: top;\n",
       "    }\n",
       "\n",
       "    .dataframe thead th {\n",
       "        text-align: right;\n",
       "    }\n",
       "</style>\n",
       "<table border=\"1\" class=\"dataframe\">\n",
       "  <thead>\n",
       "    <tr style=\"text-align: right;\">\n",
       "      <th></th>\n",
       "      <th>feature</th>\n",
       "      <th>coefficients</th>\n",
       "    </tr>\n",
       "  </thead>\n",
       "  <tbody>\n",
       "    <tr>\n",
       "      <th>3</th>\n",
       "      <td>vid_len</td>\n",
       "      <td>695.288361</td>\n",
       "    </tr>\n",
       "    <tr>\n",
       "      <th>2</th>\n",
       "      <td>img_len</td>\n",
       "      <td>20.904106</td>\n",
       "    </tr>\n",
       "    <tr>\n",
       "      <th>1</th>\n",
       "      <td>hourValue</td>\n",
       "      <td>-4.227234</td>\n",
       "    </tr>\n",
       "    <tr>\n",
       "      <th>0</th>\n",
       "      <td>diff_day</td>\n",
       "      <td>0.291747</td>\n",
       "    </tr>\n",
       "    <tr>\n",
       "      <th>4</th>\n",
       "      <td>bread</td>\n",
       "      <td>-0.187542</td>\n",
       "    </tr>\n",
       "  </tbody>\n",
       "</table>\n",
       "</div>"
      ],
      "text/plain": [
       "     feature  coefficients\n",
       "3    vid_len    695.288361\n",
       "2    img_len     20.904106\n",
       "1  hourValue     -4.227234\n",
       "0   diff_day      0.291747\n",
       "4      bread     -0.187542"
      ]
     },
     "execution_count": 794,
     "metadata": {},
     "output_type": "execute_result"
    }
   ],
   "source": [
    "## 절대값 크기대로 나열하기\n",
    "coefs_new = coefs.reindex(coefs.coefficients.abs().sort_values(ascending=False).index)\n",
    "coefs_new"
   ]
  },
  {
   "cell_type": "code",
   "execution_count": 795,
   "metadata": {},
   "outputs": [
    {
     "data": {
      "image/png": "[encoded data removed]",
      "text/plain": [
       "<Figure size 576x576 with 1 Axes>"
      ]
     },
     "metadata": {},
     "output_type": "display_data"
    }
   ],
   "source": [
    "## 시각화로 보여주기\n",
    "\n",
    "### figure size\n",
    "plt.figure(figsize = (8, 8))\n",
    "\n",
    "### bar plot : matplotlib.pyplot 모듈의 barh() 함수를 사용해서 수평 막대 그래프를 그릴 수 있습니다. \n",
    "plt.barh(coefs_new['feature'], coefs_new['coefficients'])\n",
    "plt.title('\"feature - coefficient\" Graph')\n",
    "plt.xlabel('coefficients')\n",
    "plt.ylabel('features')\n",
    "plt.show()"
   ]
  },
  {
   "cell_type": "code",
   "execution_count": 796,
   "metadata": {},
   "outputs": [
    {
     "name": "stderr",
     "output_type": "stream",
     "text": [
      "C:\\Users\\user\\anaconda3\\lib\\site-packages\\statsmodels\\tsa\\tsatools.py:142: FutureWarning: In a future version of pandas all arguments of concat except for the argument 'objs' will be keyword-only\n",
      "  x = pd.concat(x[::order], 1)\n"
     ]
    },
    {
     "data": {
      "text/html": [
       "<table class=\"simpletable\">\n",
       "<caption>OLS Regression Results</caption>\n",
       "<tr>\n",
       "  <th>Dep. Variable:</th>          <td>like</td>       <th>  R-squared:         </th> <td>   0.208</td> \n",
       "</tr>\n",
       "<tr>\n",
       "  <th>Model:</th>                   <td>OLS</td>       <th>  Adj. R-squared:    </th> <td>   0.203</td> \n",
       "</tr>\n",
       "<tr>\n",
       "  <th>Method:</th>             <td>Least Squares</td>  <th>  F-statistic:       </th> <td>   35.86</td> \n",
       "</tr>\n",
       "<tr>\n",
       "  <th>Date:</th>             <td>Fri, 08 Oct 2021</td> <th>  Prob (F-statistic):</th> <td>1.26e-32</td> \n",
       "</tr>\n",
       "<tr>\n",
       "  <th>Time:</th>                 <td>14:45:59</td>     <th>  Log-Likelihood:    </th> <td> -5075.5</td> \n",
       "</tr>\n",
       "<tr>\n",
       "  <th>No. Observations:</th>      <td>   687</td>      <th>  AIC:               </th> <td>1.016e+04</td>\n",
       "</tr>\n",
       "<tr>\n",
       "  <th>Df Residuals:</th>          <td>   681</td>      <th>  BIC:               </th> <td>1.019e+04</td>\n",
       "</tr>\n",
       "<tr>\n",
       "  <th>Df Model:</th>              <td>     5</td>      <th>                     </th>     <td> </td>    \n",
       "</tr>\n",
       "<tr>\n",
       "  <th>Covariance Type:</th>      <td>nonrobust</td>    <th>                     </th>     <td> </td>    \n",
       "</tr>\n",
       "</table>\n",
       "<table class=\"simpletable\">\n",
       "<tr>\n",
       "      <td></td>         <th>coef</th>     <th>std err</th>      <th>t</th>      <th>P>|t|</th>  <th>[0.025</th>    <th>0.975]</th>  \n",
       "</tr>\n",
       "<tr>\n",
       "  <th>const</th>     <td>  109.1694</td> <td>   57.964</td> <td>    1.883</td> <td> 0.060</td> <td>   -4.640</td> <td>  222.979</td>\n",
       "</tr>\n",
       "<tr>\n",
       "  <th>diff_day</th>  <td>    0.2917</td> <td>    0.459</td> <td>    0.636</td> <td> 0.525</td> <td>   -0.609</td> <td>    1.192</td>\n",
       "</tr>\n",
       "<tr>\n",
       "  <th>hourValue</th> <td>   -4.2272</td> <td>    2.887</td> <td>   -1.464</td> <td> 0.144</td> <td>   -9.895</td> <td>    1.440</td>\n",
       "</tr>\n",
       "<tr>\n",
       "  <th>img_len</th>   <td>   20.9041</td> <td>    7.945</td> <td>    2.631</td> <td> 0.009</td> <td>    5.305</td> <td>   36.504</td>\n",
       "</tr>\n",
       "<tr>\n",
       "  <th>vid_len</th>   <td>  695.2884</td> <td>   52.417</td> <td>   13.265</td> <td> 0.000</td> <td>  592.370</td> <td>  798.207</td>\n",
       "</tr>\n",
       "<tr>\n",
       "  <th>bread</th>     <td>   -0.1875</td> <td>    0.639</td> <td>   -0.293</td> <td> 0.769</td> <td>   -1.443</td> <td>    1.068</td>\n",
       "</tr>\n",
       "</table>\n",
       "<table class=\"simpletable\">\n",
       "<tr>\n",
       "  <th>Omnibus:</th>       <td>815.144</td> <th>  Durbin-Watson:     </th> <td>   1.974</td> \n",
       "</tr>\n",
       "<tr>\n",
       "  <th>Prob(Omnibus):</th> <td> 0.000</td>  <th>  Jarque-Bera (JB):  </th> <td>83803.971</td>\n",
       "</tr>\n",
       "<tr>\n",
       "  <th>Skew:</th>          <td> 5.754</td>  <th>  Prob(JB):          </th> <td>    0.00</td> \n",
       "</tr>\n",
       "<tr>\n",
       "  <th>Kurtosis:</th>      <td>55.870</td>  <th>  Cond. No.          </th> <td>    220.</td> \n",
       "</tr>\n",
       "</table><br/><br/>Notes:<br/>[1] Standard Errors assume that the covariance matrix of the errors is correctly specified."
      ],
      "text/plain": [
       "<class 'statsmodels.iolib.summary.Summary'>\n",
       "\"\"\"\n",
       "                            OLS Regression Results                            \n",
       "==============================================================================\n",
       "Dep. Variable:                   like   R-squared:                       0.208\n",
       "Model:                            OLS   Adj. R-squared:                  0.203\n",
       "Method:                 Least Squares   F-statistic:                     35.86\n",
       "Date:                Fri, 08 Oct 2021   Prob (F-statistic):           1.26e-32\n",
       "Time:                        14:45:59   Log-Likelihood:                -5075.5\n",
       "No. Observations:                 687   AIC:                         1.016e+04\n",
       "Df Residuals:                     681   BIC:                         1.019e+04\n",
       "Df Model:                           5                                         \n",
       "Covariance Type:            nonrobust                                         \n",
       "==============================================================================\n",
       "                 coef    std err          t      P>|t|      [0.025      0.975]\n",
       "------------------------------------------------------------------------------\n",
       "const        109.1694     57.964      1.883      0.060      -4.640     222.979\n",
       "diff_day       0.2917      0.459      0.636      0.525      -0.609       1.192\n",
       "hourValue     -4.2272      2.887     -1.464      0.144      -9.895       1.440\n",
       "img_len       20.9041      7.945      2.631      0.009       5.305      36.504\n",
       "vid_len      695.2884     52.417     13.265      0.000     592.370     798.207\n",
       "bread         -0.1875      0.639     -0.293      0.769      -1.443       1.068\n",
       "==============================================================================\n",
       "Omnibus:                      815.144   Durbin-Watson:                   1.974\n",
       "Prob(Omnibus):                  0.000   Jarque-Bera (JB):            83803.971\n",
       "Skew:                           5.754   Prob(JB):                         0.00\n",
       "Kurtosis:                      55.870   Cond. No.                         220.\n",
       "==============================================================================\n",
       "\n",
       "Notes:\n",
       "[1] Standard Errors assume that the covariance matrix of the errors is correctly specified.\n",
       "\"\"\""
      ]
     },
     "execution_count": 796,
     "metadata": {},
     "output_type": "execute_result"
    }
   ],
   "source": [
    "# 2] 유의성검정 - 통계에서 변수가 유의함을 보여줌\n",
    "import statsmodels.api as sm\n",
    "\n",
    "X_train2 = sm.add_constant(X_train)\n",
    "### 회귀분석모형 수식을 간단하게 만들기 위해 다음과 같이 상수항을 독립변수 데이터에 추가하는 것을 상수항 결합(bias augmentation)작업이라고 합니다.\n",
    "### ordinary least square 의 약자로, 거리의 최소값을 기준으로 구하는 함수입니다. \n",
    "\n",
    "model2 = sm.OLS(y_train, X_train2).fit() # ols모델적용\n",
    "model2.summary() #모델요약 보여주기"
   ]
  },
  {
   "cell_type": "code",
   "execution_count": 802,
   "metadata": {},
   "outputs": [],
   "source": [
    "## [해석]\n",
    "## p-value : 0.05 보다 작은 피쳐 = img / vid\n",
    "## R-squre : 0.208 = 독립변수가 종속변수의 20%정도 영향을 끼친다(낮은 수치, 일반적으로 최소 20%로는 넘겨야 유의미하다고 판단)"
   ]
  },
  {
   "cell_type": "markdown",
   "metadata": {},
   "source": [
    "##### | 해석하기 | \n",
    "\n",
    "1. img_len, vid_len만 유의미합니다. (p value < 0.05)\n",
    "- 레이브인코딩/원핫인코딩 둘다 두피쳐만 유의미하게 나왔습니다.\n",
    "\n",
    "2. 좋아요 개수에 Positive한 영향을 미칩니다.\n",
    "- \"img_len\"(게시글에 올라간 사진 개수),\n",
    "- \"vid_len\"(게시글에 올라간 비디오 개수),\n",
    ": 다른 변수의 값이 고정했을 때, 해당 변수의 값이 클수록 주택의 가격이 높을 것입니다."
   ]
  },
  {
   "cell_type": "markdown",
   "metadata": {},
   "source": [
    "### 3-4 모델 예측 결과 및 성능 평가\n",
    "- 예측 결과를 가시화 합니다  \n",
    "\n",
    "학습한 모델을 Test set에 적용하여 y값(“like”)을 예측합니다.\n",
    "\n",
    "예측 결과를 확인하기 위해 실제값과 예측값을 한 plot에 출력해 시각화해보겠습니다."
   ]
  },
  {
   "cell_type": "code",
   "execution_count": 797,
   "metadata": {},
   "outputs": [
    {
     "data": {
      "text/html": [
       "<div>\n",
       "<style scoped>\n",
       "    .dataframe tbody tr th:only-of-type {\n",
       "        vertical-align: middle;\n",
       "    }\n",
       "\n",
       "    .dataframe tbody tr th {\n",
       "        vertical-align: top;\n",
       "    }\n",
       "\n",
       "    .dataframe thead th {\n",
       "        text-align: right;\n",
       "    }\n",
       "</style>\n",
       "<table border=\"1\" class=\"dataframe\">\n",
       "  <thead>\n",
       "    <tr style=\"text-align: right;\">\n",
       "      <th></th>\n",
       "      <th>actual</th>\n",
       "      <th>prediction</th>\n",
       "    </tr>\n",
       "  </thead>\n",
       "  <tbody>\n",
       "    <tr>\n",
       "      <th>0</th>\n",
       "      <td>0</td>\n",
       "      <td>709.458223</td>\n",
       "    </tr>\n",
       "    <tr>\n",
       "      <th>1</th>\n",
       "      <td>3</td>\n",
       "      <td>45.755174</td>\n",
       "    </tr>\n",
       "    <tr>\n",
       "      <th>2</th>\n",
       "      <td>4</td>\n",
       "      <td>159.084389</td>\n",
       "    </tr>\n",
       "    <tr>\n",
       "      <th>3</th>\n",
       "      <td>5</td>\n",
       "      <td>83.172275</td>\n",
       "    </tr>\n",
       "    <tr>\n",
       "      <th>4</th>\n",
       "      <td>6</td>\n",
       "      <td>158.146677</td>\n",
       "    </tr>\n",
       "  </tbody>\n",
       "</table>\n",
       "</div>"
      ],
      "text/plain": [
       "   actual  prediction\n",
       "0       0  709.458223\n",
       "1       3   45.755174\n",
       "2       4  159.084389\n",
       "3       5   83.172275\n",
       "4       6  158.146677"
      ]
     },
     "execution_count": 797,
     "metadata": {},
     "output_type": "execute_result"
    }
   ],
   "source": [
    "# 1] 예측 결과 시각화 (test set)\n",
    "\n",
    "## 데이터프레임으로 결과 나타내기\n",
    "df = pd.DataFrame({'actual': y_test, 'prediction': pred_test})\n",
    "df = df.sort_values(by='actual').reset_index(drop=True)\n",
    "df.head()"
   ]
  },
  {
   "cell_type": "code",
   "execution_count": 798,
   "metadata": {},
   "outputs": [
    {
     "data": {
      "image/png": "[encoded data removed]",
      "text/plain": [
       "<Figure size 864x648 with 1 Axes>"
      ]
     },
     "metadata": {},
     "output_type": "display_data"
    }
   ],
   "source": [
    "## 시각화해서 보여주기\n",
    "plt.figure(figsize=(12, 9))\n",
    "plt.scatter(df.index, df['prediction'], marker='x', color='r')\n",
    "plt.scatter(df.index, df['actual'], alpha=0.3, marker='o', color='black')\n",
    "plt.title(\"Prediction Result in Test Set\", fontsize=20)\n",
    "plt.legend(['prediction', 'actual'], fontsize=12)\n",
    "plt.show()"
   ]
  },
  {
   "cell_type": "code",
   "execution_count": 803,
   "metadata": {},
   "outputs": [],
   "source": [
    "# [해석] 잘나온 모델은 아니다\n",
    "# 독립변수가 이미지개수, 비디오개수와 같은 연속형 피쳐들이 존재해야되는데, 시간(hour)는 연속형이 아니였고, \n",
    "# 날짜 차이는 개수가 많이 다르기때문에 의미있는 결과값을 얻기 힘들었다.  "
   ]
  },
  {
   "cell_type": "markdown",
   "metadata": {},
   "source": [
    "- 모델 성능 평가 (R squre 와 RMSE)"
   ]
  },
  {
   "cell_type": "code",
   "execution_count": 799,
   "metadata": {},
   "outputs": [
    {
     "name": "stdout",
     "output_type": "stream",
     "text": [
      "0.2084189819185348\n",
      "0.195636175080525\n"
     ]
    }
   ],
   "source": [
    "# 1] 예측 결과 시각화 (test set)\n",
    "## R square\n",
    "print(model.score(X_train, y_train))  # training set\n",
    "print(model.score(X_test, y_test))  # test set"
   ]
  },
  {
   "cell_type": "code",
   "execution_count": null,
   "metadata": {},
   "outputs": [],
   "source": [
    "## [해석] 테스트셋의 r-square값은 19가 나왔다. 최소 20%는 넘겨야 의미있는 결과를 인사이트할 수 있을텐데 좋은 모델은 아니다."
   ]
  },
  {
   "cell_type": "code",
   "execution_count": 800,
   "metadata": {},
   "outputs": [
    {
     "name": "stdout",
     "output_type": "stream",
     "text": [
      "391.0843001528609\n",
      "301.39889897316306\n"
     ]
    }
   ],
   "source": [
    "## RMSE\n",
    "from sklearn.metrics import mean_squared_error\n",
    "from math import sqrt\n",
    "\n",
    "# training set\n",
    "pred_train = lr.predict(X_train)\n",
    "print(sqrt(mean_squared_error(y_train, pred_train)))\n",
    "\n",
    "# test set\n",
    "print(sqrt(mean_squared_error(y_test, pred_test)))"
   ]
  },
  {
   "cell_type": "code",
   "execution_count": 847,
   "metadata": {},
   "outputs": [],
   "source": [
    "## [해석] RMSE가 301입니다.. 오차값이 굉장히 크다. \n",
    "## R square와 RMSE값을 보았을때 중간고사에서 제가 한 모델은 회귀분석모델로 적합하지 않았습니다. \n",
    "## 그 이유를 생각해보았을때 모델의 문제가 아닌, 학습데이터셋의 문제라고 생각이 들었습니다. \n",
    "## 다음 회귀분석을 할때에는 종속변수와 독립변수 설정을 회귀분석에 맞게 설정하여서 진행하도록 하겠습니다. 감사합니다. "
   ]
  },
  {
   "cell_type": "code",
   "execution_count": null,
   "metadata": {},
   "outputs": [],
   "source": []
  }
 ],
 "metadata": {
  "kernelspec": {
   "display_name": "Python 3",
   "language": "python",
   "name": "python3"
  },
  "language_info": {
   "codemirror_mode": {
    "name": "ipython",
    "version": 3
   },
   "file_extension": ".py",
   "mimetype": "text/x-python",
   "name": "python",
   "nbconvert_exporter": "python",
   "pygments_lexer": "ipython3",
   "version": "3.8.5"
  }
 },
 "nbformat": 4,
 "nbformat_minor": 5
}
